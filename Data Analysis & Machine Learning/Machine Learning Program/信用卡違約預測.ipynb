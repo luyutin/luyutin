{
 "cells": [
  {
   "cell_type": "code",
   "execution_count": 1,
   "metadata": {},
   "outputs": [
    {
     "name": "stdout",
     "output_type": "stream",
     "text": [
      "   X0      X1  X2  X3  X4  X5  X6  X7  X8  X9  ...    X15    X16    X17   X18  \\\n",
      "0   1   20000   2   2   1  24   2   2  -1  -1  ...      0      0      0     0   \n",
      "1   2  120000   2   2   2  26  -1   2   0   0  ...   3272   3455   3261     0   \n",
      "2   3   90000   2   2   2  34   0   0   0   0  ...  14331  14948  15549  1518   \n",
      "3   4   50000   2   2   1  37   0   0   0   0  ...  28314  28959  29547  2000   \n",
      "4   5   50000   1   2   1  57  -1   0  -1   0  ...  20940  19146  19131  2000   \n",
      "\n",
      "     X19    X20   X21   X22   X23  Y  \n",
      "0    689      0     0     0     0  1  \n",
      "1   1000   1000  1000     0  2000  1  \n",
      "2   1500   1000  1000  1000  5000  0  \n",
      "3   2019   1200  1100  1069  1000  0  \n",
      "4  36681  10000  9000   689   679  0  \n",
      "\n",
      "[5 rows x 25 columns]\n"
     ]
    }
   ],
   "source": [
    "import pandas as pd\n",
    "import numpy as np\n",
    "from sklearn import preprocessing, linear_model\n",
    "from sklearn.model_selection import train_test_split\n",
    "from sklearn import preprocessing\n",
    "from sklearn.linear_model  import LogisticRegression\n",
    "from sklearn.metrics import accuracy_score\n",
    "\n",
    "# 1.讀取default_credit_card.csv\n",
    "df = pd.read_csv('default_credit_card.csv')\n",
    "print(df.head())"
   ]
  },
  {
   "cell_type": "code",
   "execution_count": 38,
   "metadata": {},
   "outputs": [
    {
     "name": "stdout",
     "output_type": "stream",
     "text": [
      "(30000, 24)\n",
      "(30000,)\n"
     ]
    }
   ],
   "source": [
    "# 2.設定特徵向量X以及對應的標籤y\n",
    "selected_column = list(df.columns)\n",
    "selected_column.remove('Y')\n",
    "x = df[selected_column]\n",
    "y = df['Y']\n",
    "\n",
    "print(x.shape)\n",
    "print(y.shape)"
   ]
  },
  {
   "cell_type": "code",
   "execution_count": 39,
   "metadata": {},
   "outputs": [],
   "source": [
    "# 3. 將資料分成訓練資料以及測試資料(假設random_state=1)\n",
    "X_train, X_test, Y_train, Y_test = train_test_split(x, y, random_state=1, test_size=0.2)\n",
    "\n",
    "scaler = preprocessing.StandardScaler().fit(X_train)\n",
    "X_train = scaler.transform(X_train)\n"
   ]
  },
  {
   "cell_type": "code",
   "execution_count": 40,
   "metadata": {},
   "outputs": [
    {
     "name": "stdout",
     "output_type": "stream",
     "text": [
      "number of correct sample: 4846\n",
      "accuracy: 0.8076666666666666\n"
     ]
    }
   ],
   "source": [
    "# 4. 定義LogisticRegression模型並訓練\n",
    "log_model = LogisticRegression()\n",
    "log_model.fit(X_train,Y_train)\n",
    "\n",
    "X_test = scaler.transform(X_test)\n",
    "y_pred = log_model.predict(X_test)\n",
    "\n",
    "#5. 驗證結果\n",
    "num_correct_samples = accuracy_score(Y_test, y_pred, normalize = False)\n",
    "accuracy = accuracy_score(Y_test, y_pred)\n",
    "\n",
    "print('number of correct sample: {}'.format(num_correct_samples))\n",
    "print('accuracy: {}'.format(accuracy))"
   ]
  }
 ],
 "metadata": {
  "kernelspec": {
   "display_name": "Python 3",
   "language": "python",
   "name": "python3"
  },
  "language_info": {
   "codemirror_mode": {
    "name": "ipython",
    "version": 3
   },
   "file_extension": ".py",
   "mimetype": "text/x-python",
   "name": "python",
   "nbconvert_exporter": "python",
   "pygments_lexer": "ipython3",
   "version": "3.10.2"
  }
 },
 "nbformat": 4,
 "nbformat_minor": 2
}
