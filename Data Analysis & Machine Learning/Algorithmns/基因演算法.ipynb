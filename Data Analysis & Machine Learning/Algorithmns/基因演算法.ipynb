{
 "cells": [
  {
   "cell_type": "code",
   "execution_count": 29,
   "metadata": {},
   "outputs": [],
   "source": [
    "import numpy as np"
   ]
  },
  {
   "cell_type": "code",
   "execution_count": 30,
   "metadata": {},
   "outputs": [],
   "source": [
    "# t 普通數字\n",
    "# 後面的random是noise\n",
    "def F1(t):\n",
    "    return 0.063*(t**3) - 5.284*(t**2) + 4.887*t + 412 + np.random.normal(0, 1)"
   ]
  },
  {
   "cell_type": "markdown",
   "metadata": {},
   "source": [
    "### b[t] = F1(t) 模擬信號產生的過程。\n",
    "### 在解 Ax = b"
   ]
  },
  {
   "cell_type": "code",
   "execution_count": 10,
   "metadata": {},
   "outputs": [
    {
     "name": "stderr",
     "output_type": "stream",
     "text": [
      "/var/folders/8s/csl8f6rj5lbcl3ch8tybntnw0000gn/T/ipykernel_10592/3573691257.py:13: FutureWarning: `rcond` parameter will change to the default of machine precision times ``max(M, N)`` where M and N are the input matrix dimensions.\n",
      "To use the future default and silence this warning we advise to pass `rcond=None`, to keep using the old, explicitly pass `rcond=-1`.\n",
      "  x = np.linalg.lstsq(A, b)[0]\n"
     ]
    },
    {
     "data": {
      "text/plain": [
       "array([[ 1.97219007e-12],\n",
       "       [ 6.29999945e-02],\n",
       "       [-5.28399539e+00],\n",
       "       [ 4.88578208e+00],\n",
       "       [ 4.12077673e+02]])"
      ]
     },
     "execution_count": 10,
     "metadata": {},
     "output_type": "execute_result"
    }
   ],
   "source": [
    "A = np.zeros((1000, 5)) # 每row有5個，有1000row\n",
    "b = np.zeros((1000,1))\n",
    "\n",
    "for t in range(0, 1000):\n",
    "    b[t] = F1(t)\n",
    "    A[t, 0] = t**4\n",
    "    A[t, 1] = t**3\n",
    "    A[t, 2] = t**2\n",
    "    A[t, 3] = t\n",
    "    A[t, 4] = 1\n",
    "\n",
    "# Return the least-squares solution to a linear matrix equation.\n",
    "x = np.linalg.lstsq(A, b)[0]\n",
    "# 第一項：Least-squares solution. If b is two-dimensional, the solutions are in the K columns of x.\n",
    "x"
   ]
  },
  {
   "cell_type": "markdown",
   "metadata": {},
   "source": [
    "### 非線性的求解！想要反推已知format：F2 = 0.6t^(1.2) + 100cos(0.4t）\n",
    "### 下方 b2 即是模擬訊號產生。"
   ]
  },
  {
   "cell_type": "code",
   "execution_count": 31,
   "metadata": {},
   "outputs": [],
   "source": [
    "def F2(T, A, B, C, D):\n",
    "    return A*(T**B) + C*np.cos(D*T) + np.random.normal(0, 1, T.shape)\n",
    "\n",
    "T = np.random.random((1000, 1))*100\n",
    "# T.shape = (1000, 1)\n",
    "# Return random floats in the half-open interval [0.0, 1.0)\n",
    "# 1000 row, 每row一個\n",
    "b2 = F2(T, 0.6, 1.2, 100, 0.4)"
   ]
  },
  {
   "cell_type": "code",
   "execution_count": 33,
   "metadata": {},
   "outputs": [],
   "source": [
    "# pop = np.random.randint(0, 2, (N, 40))\n",
    "# 產生隨機整數 low, high(不包含), size\n",
    "# pop[i, :][0:10] = array([0, 0, 1, 0, 0, 1, 1, 0, 1, 1])\n",
    "\n",
    "# 2**np.arange(10) = array([  1,   2,   4,   8,  16,  32,  64, 128, 256, 512])\n",
    "\n",
    "# 因為已經知道A, B, C, D的值域範圍，例如：A是從-5.12~5.12，且間格為0.01，共有512種可能，所以用2進位的話，需要10位。\n",
    "# A, B, C, D各需要10位，所以總共需要40個基因。\n",
    "# 在篩選時篩基因，但回到係數要回到10進位。\n",
    "def gene2coef(gene): # 2進位轉10進位\n",
    "    A = (np.sum(2**np.arange(10)*gene[0:10])-511)/100  # max -5.11~5.12\n",
    "    B = (np.sum(2**np.arange(10)*gene[10:20])-511)/100\n",
    "    C = (np.sum(2**np.arange(10)*gene[20:30])-511)\n",
    "    D = (np.sum(2**np.arange(10)*gene[30:40])-511)/100\n",
    "    return A,B,C,D"
   ]
  },
  {
   "cell_type": "code",
   "execution_count": 13,
   "metadata": {},
   "outputs": [],
   "source": [
    "N = 10000   # 每一代人數\n",
    "G = 10      # 演化次數\n",
    "survive_rate = 0.05\n",
    "mutation_rate = 0.001\n",
    "\n",
    "# round 四捨五入到整數\n",
    "survive = round(N*survive_rate)\n",
    "mutation = round(N*40*mutation_rate)"
   ]
  },
  {
   "cell_type": "code",
   "execution_count": 14,
   "metadata": {},
   "outputs": [
    {
     "data": {
      "text/plain": [
       "array([[1, 1, 1, ..., 1, 0, 0],\n",
       "       [1, 0, 0, ..., 0, 1, 1],\n",
       "       [0, 0, 0, ..., 0, 0, 1],\n",
       "       ...,\n",
       "       [1, 0, 0, ..., 1, 1, 1],\n",
       "       [1, 1, 1, ..., 1, 1, 1],\n",
       "       [1, 1, 1, ..., 1, 1, 1]])"
      ]
     },
     "execution_count": 14,
     "metadata": {},
     "output_type": "execute_result"
    }
   ],
   "source": [
    "pop = np.random.randint(0, 2, (N, 40))\n",
    "# 產生隨機的基因當成第一代（low, high(不包含), size）\n",
    "fit = np.zeros((N, 1))\n",
    "pop"
   ]
  },
  {
   "cell_type": "code",
   "execution_count": 34,
   "metadata": {},
   "outputs": [
    {
     "name": "stdout",
     "output_type": "stream",
     "text": [
      "5.1 0.63 5.07 -0.03\n"
     ]
    }
   ],
   "source": [
    "# 繁衍G代\n",
    "for generation in range(G):\n",
    "    for i in range(N):\n",
    "        A, B, C, D = gene2coef(pop[i, :])\n",
    "        fit[i] = np.mean(abs(F2(T, A, B, C, D) - b2))\n",
    "    # 真實值跟估計的差異絕對值，想辦法讓他越小越好\n",
    "    # 存活的人：先排序，選擇前500名。\n",
    "    # argsort: Returns the indices that would sort an array.\n",
    "    sortf = np.argsort(fit[:,0])\n",
    "    pop = pop[sortf, :]\n",
    "\n",
    "    # 誤差最小的前500個存活，後面用這500個繁衍\n",
    "    for i in range(survive, N):  #繁衍後501~10000個人\n",
    "        # 先隨機選取一個爸爸跟一個媽媽，\n",
    "        fid = np.random.randint(0, survive) # father id\n",
    "        mid = np.random.randint(0, survive) # mother id\n",
    "        while(fid == mid):\n",
    "            mid = np.random.randint(0, survive)\n",
    "        \n",
    "        # 先假設兒子完全複製被選到的那一個媽媽的基因\n",
    "        son = pop[mid, :].copy() # 500筆\n",
    "        father = pop[fid, :]\n",
    "        # mask 是“哪個地方”要替代成爸爸的基因\n",
    "        mask = np.random.randint(0, 2, [1, 40])\n",
    "        # !!!!!超酷的，用條件來當成index\n",
    "        son[mask[0, :] == 1] = father[mask[0, :]==1] \n",
    "        pop[i, :] = son # 把這個新產生的兒子更新到pop裡面。\n",
    "\n",
    "# mutation = round(N*40*mutation_rate)\n",
    "# 繁衍以及突變 一萬個人，有40個新產生的小孩基因突變\n",
    "    for i in range(mutation):\n",
    "        # 先選是誰突變\n",
    "        m = np.random.randint(survive, N)\n",
    "        # 再選是哪“一些”基因突變了\n",
    "        n = np.random.randint(0, 40)\n",
    "        # 遮些突變的要剪1\n",
    "        pop[m, n] = 1 - pop[m,n]\n",
    "    # 接著重複產生編號501~10000的小孩。\n",
    "\n",
    "# 這裡的pop已經是30代以後的了\n",
    "for i in range(N):\n",
    "    A, B, C, D = gene2coef(pop[i, :])\n",
    "    fit[i] = np.mean(abs(F2(T, A, B, C, D)-b2))\n",
    "sortf = np.argsort(fit[:, 0]) \n",
    "# argsort: Returns the indices that would sort an array.\n",
    "pop = pop[sortf, :]\n",
    "# pop[0, :] 第31代最棒的基因。\n",
    "A, B, C, D = gene2coef(pop[0, :])\n",
    "print(A, B, C, D)"
   ]
  },
  {
   "cell_type": "markdown",
   "metadata": {},
   "source": [
    "#### 關於copy，對於 list 的影響"
   ]
  },
  {
   "cell_type": "code",
   "execution_count": 21,
   "metadata": {},
   "outputs": [
    {
     "data": {
      "text/plain": [
       "[[1, 1], [2, 2], [3, 3]]"
      ]
     },
     "execution_count": 21,
     "metadata": {},
     "output_type": "execute_result"
    }
   ],
   "source": [
    "acc = [[1, 1], [2, 2]]\n",
    "bcc = acc\n",
    "# Append\n",
    "acc.append([3, 3])\n",
    "# 則bcc也會改變\n",
    "bcc"
   ]
  }
 ],
 "metadata": {
  "interpreter": {
   "hash": "aee8b7b246df8f9039afb4144a1f6fd8d2ca17a180786b69acc140d282b71a49"
  },
  "kernelspec": {
   "display_name": "Python 3.10.2 64-bit",
   "language": "python",
   "name": "python3"
  },
  "language_info": {
   "codemirror_mode": {
    "name": "ipython",
    "version": 3
   },
   "file_extension": ".py",
   "mimetype": "text/x-python",
   "name": "python",
   "nbconvert_exporter": "python",
   "pygments_lexer": "ipython3",
   "version": "3.10.2"
  },
  "orig_nbformat": 4
 },
 "nbformat": 4,
 "nbformat_minor": 2
}
