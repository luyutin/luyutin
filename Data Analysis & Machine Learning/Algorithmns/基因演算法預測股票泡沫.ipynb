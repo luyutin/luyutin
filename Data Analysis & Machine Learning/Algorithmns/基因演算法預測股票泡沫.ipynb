{
 "cells": [
  {
   "cell_type": "markdown",
   "metadata": {},
   "source": [
    "#### 已知 tc 參數出現在 2021/11/24 與 2021/11/30 之間(含)，請用基因演算法來推測非線性 參數 tc, β, ω, Φ，每次計算此基因的 fitness 前，先以線性迴歸推論此基因對應的最佳 A,B,C 參數，並以七個參數計算 p(t0)~p(tc) 序列(合成序列)，最後 fitness 再計算此序列與真實 NVIDIA 股價(真實序列)的差異。請在作業報告中將你求出的最佳參數組合列出，並將合 成序列與直實序列用兩種顏色繪製於同一張折線圖中。"
   ]
  },
  {
   "cell_type": "code",
   "execution_count": 34,
   "metadata": {},
   "outputs": [],
   "source": [
    "import pandas as pd\n",
    "import numpy as np\n",
    "import matplotlib.pyplot as plt\n",
    "import math"
   ]
  },
  {
   "cell_type": "code",
   "execution_count": 35,
   "metadata": {},
   "outputs": [],
   "source": [
    "data = pd.read_csv('NVDA.csv')"
   ]
  },
  {
   "cell_type": "code",
   "execution_count": 36,
   "metadata": {},
   "outputs": [],
   "source": [
    "# tc, beta, w, phi = gene2coef(pop[i, :])\n",
    "# tc = np.sum(2**np.arange(2)*gene[0:2] + 731)\n",
    "\n",
    "def F1(t, tc, beta, w, phi, data):\n",
    "    x = np.zeros((tc, 3))\n",
    "    b = np.log(data.iloc[0:tc, 4].to_numpy())\n",
    "    x[:,0] = 1\n",
    "\n",
    "    for i in range(tc):\n",
    "        x[i, 1] = (tc-t[i])**beta\n",
    "        x[i, 2] = ((tc-t[i])**beta)*np.cos(w*np.log(tc-t[i]+phi))\n",
    "    \n",
    "    a = np.linalg.lstsq(x, b)[0]\n",
    "    A = a[0]\n",
    "    B = a[1]\n",
    "    C = a[2]/a[1]\n",
    "    return A, B, C"
   ]
  },
  {
   "cell_type": "code",
   "execution_count": 37,
   "metadata": {},
   "outputs": [],
   "source": [
    "def F2(t, A, B, C, tc, beta, w, phi):\n",
    "    return A + B*((tc-t)**beta)*(1 + C*np.cos(w*np.log(tc-t)+phi))"
   ]
  },
  {
   "cell_type": "code",
   "execution_count": 38,
   "metadata": {},
   "outputs": [],
   "source": [
    "def gene2coef(gene):\n",
    "    tc = np.sum(2**np.arange(2)*gene[0:2]) + 731\n",
    "    beta = (np.sum(2**np.arange(10)*gene[2:12])) / 1024\n",
    "    w = np.sum(2**np.arange(10)*gene[12:22])\n",
    "    phi = np.sum(2**np.arange(10)*gene[22:32]) / 1024*(2*math.pi)\n",
    "    return tc, beta, w, phi"
   ]
  },
  {
   "cell_type": "code",
   "execution_count": 39,
   "metadata": {},
   "outputs": [],
   "source": [
    "T = np.arange(967)\n",
    "N = 10000\n",
    "G = 30\n",
    "\n",
    "survive_rate = 0.05\n",
    "mutation_rate = 0.001\n",
    "survive = round(N*survive_rate)\n",
    "mutation = round(N*40*mutation_rate) # everyone has 40 genes."
   ]
  },
  {
   "cell_type": "code",
   "execution_count": 40,
   "metadata": {},
   "outputs": [],
   "source": [
    "# 2 的 5 次方 ＝ 32\n",
    "# N 列 32 直行\n",
    "pop = np.random.randint(0, 2, (N, 32))\n",
    "fit = np.zeros((N, 1))"
   ]
  },
  {
   "cell_type": "code",
   "execution_count": 41,
   "metadata": {},
   "outputs": [
    {
     "name": "stderr",
     "output_type": "stream",
     "text": [
      "/var/folders/8s/csl8f6rj5lbcl3ch8tybntnw0000gn/T/ipykernel_29203/2995487477.py:13: FutureWarning: `rcond` parameter will change to the default of machine precision times ``max(M, N)`` where M and N are the input matrix dimensions.\n",
      "To use the future default and silence this warning we advise to pass `rcond=None`, to keep using the old, explicitly pass `rcond=-1`.\n",
      "  a = np.linalg.lstsq(x, b)[0]\n"
     ]
    }
   ],
   "source": [
    "for generation in range(G):\n",
    "    for i in range(N):\n",
    "        tc, beta, w, phi = gene2coef(pop[i, :])\n",
    "        A, B, C = F1(T, tc, beta, w, phi, data)\n",
    "        fit[i] = np.mean(abs(F2(T[0:tc], A, B, C, tc, beta, w, phi) - np.log(data.iloc[0:tc, 4].to_numpy())))\n",
    "    \n",
    "    sortf = np.argsort(fit[:, 0])\n",
    "    pop = pop[sortf, :]\n",
    "\n",
    "    for i in range(survive, N):\n",
    "        fid = np.random.randint(0, survive)\n",
    "        mid = np.random.randint(0, survive)\n",
    "\n",
    "        while(fid == mid):\n",
    "            mid = np.random.randint(0, survive)\n",
    "        \n",
    "        mask = np.random.randint(0, 2, [1, 32])\n",
    "        son = pop[mid, :].copy()\n",
    "        father = pop[fid, :]\n",
    "        son[mask[0, :] == 1] = father[mask[0, :] == 1]\n",
    "        pop[i, :] = son\n",
    "    \n",
    "    for i in range(mutation):\n",
    "        m = np.random.randint(survive, N)\n",
    "        n = np.random.randint(0, 32)\n",
    "        pop[m, n] = 1 - pop[m, n]"
   ]
  },
  {
   "cell_type": "code",
   "execution_count": 42,
   "metadata": {},
   "outputs": [
    {
     "name": "stderr",
     "output_type": "stream",
     "text": [
      "/var/folders/8s/csl8f6rj5lbcl3ch8tybntnw0000gn/T/ipykernel_29203/2995487477.py:13: FutureWarning: `rcond` parameter will change to the default of machine precision times ``max(M, N)`` where M and N are the input matrix dimensions.\n",
      "To use the future default and silence this warning we advise to pass `rcond=None`, to keep using the old, explicitly pass `rcond=-1`.\n",
      "  a = np.linalg.lstsq(x, b)[0]\n"
     ]
    }
   ],
   "source": [
    "for i in range(N):\n",
    "    tc, beta, w, phi = gene2coef(pop[i, :])\n",
    "    A, B, C = F1(T, tc, beta, w, phi, data)\n",
    "    fit[i] = np.mean(abs(F2(T[0:tc], A, B, C, tc, beta, w, phi) - np.log(data.iloc[0:tc, 4].to_numpy())))\n",
    "\n",
    "sortf = np.argsort(fit[:, 0])\n",
    "pop = pop[sortf, :]"
   ]
  },
  {
   "cell_type": "code",
   "execution_count": 43,
   "metadata": {},
   "outputs": [
    {
     "name": "stderr",
     "output_type": "stream",
     "text": [
      "/var/folders/8s/csl8f6rj5lbcl3ch8tybntnw0000gn/T/ipykernel_29203/2995487477.py:13: FutureWarning: `rcond` parameter will change to the default of machine precision times ``max(M, N)`` where M and N are the input matrix dimensions.\n",
      "To use the future default and silence this warning we advise to pass `rcond=None`, to keep using the old, explicitly pass `rcond=-1`.\n",
      "  a = np.linalg.lstsq(x, b)[0]\n"
     ]
    }
   ],
   "source": [
    "tc2, beta2, w2, phi2 = gene2coef(pop[0, :])\n",
    "A, B, C = F1(T, tc2, beta2, w2, phi2, data)\n",
    "tans = F2(T[0:tc2], A, B, C, tc2, beta2, w2, phi2)"
   ]
  },
  {
   "cell_type": "code",
   "execution_count": 48,
   "metadata": {},
   "outputs": [
    {
     "data": {
      "image/png": "[encoded data removed]",
      "text/plain": [
       "<Figure size 432x288 with 1 Axes>"
      ]
     },
     "metadata": {
      "needs_background": "light"
     },
     "output_type": "display_data"
    }
   ],
   "source": [
    "x3 = np.arange(tc2)\n",
    "y3 = data.iloc[0:tc2, 4].to_numpy()\n",
    "plt.plot(x3, y3, color = 'blue', label = 'Real Stock Price')\n",
    "plt.plot(x3, np.exp(tans), color = 'red', label = 'Simulation Stock Price')\n",
    "plt.legend()\n",
    "plt.show()"
   ]
  },
  {
   "cell_type": "code",
   "execution_count": 45,
   "metadata": {},
   "outputs": [
    {
     "data": {
      "text/html": [
       "<div>\n",
       "<style scoped>\n",
       "    .dataframe tbody tr th:only-of-type {\n",
       "        vertical-align: middle;\n",
       "    }\n",
       "\n",
       "    .dataframe tbody tr th {\n",
       "        vertical-align: top;\n",
       "    }\n",
       "\n",
       "    .dataframe thead th {\n",
       "        text-align: right;\n",
       "    }\n",
       "</style>\n",
       "<table border=\"1\" class=\"dataframe\">\n",
       "  <thead>\n",
       "    <tr style=\"text-align: right;\">\n",
       "      <th></th>\n",
       "      <th>variable</th>\n",
       "      <th>value</th>\n",
       "    </tr>\n",
       "  </thead>\n",
       "  <tbody>\n",
       "    <tr>\n",
       "      <th>0</th>\n",
       "      <td>A</td>\n",
       "      <td>5.635184</td>\n",
       "    </tr>\n",
       "    <tr>\n",
       "      <th>1</th>\n",
       "      <td>B</td>\n",
       "      <td>-0.011262</td>\n",
       "    </tr>\n",
       "    <tr>\n",
       "      <th>2</th>\n",
       "      <td>C</td>\n",
       "      <td>0.159584</td>\n",
       "    </tr>\n",
       "    <tr>\n",
       "      <th>3</th>\n",
       "      <td>tc</td>\n",
       "      <td>731.000000</td>\n",
       "    </tr>\n",
       "    <tr>\n",
       "      <th>4</th>\n",
       "      <td>beta</td>\n",
       "      <td>0.783203</td>\n",
       "    </tr>\n",
       "    <tr>\n",
       "      <th>5</th>\n",
       "      <td>w</td>\n",
       "      <td>5.000000</td>\n",
       "    </tr>\n",
       "    <tr>\n",
       "      <th>6</th>\n",
       "      <td>phi</td>\n",
       "      <td>0.018408</td>\n",
       "    </tr>\n",
       "  </tbody>\n",
       "</table>\n",
       "</div>"
      ],
      "text/plain": [
       "  variable       value\n",
       "0        A    5.635184\n",
       "1        B   -0.011262\n",
       "2        C    0.159584\n",
       "3       tc  731.000000\n",
       "4     beta    0.783203\n",
       "5        w    5.000000\n",
       "6      phi    0.018408"
      ]
     },
     "execution_count": 45,
     "metadata": {},
     "output_type": "execute_result"
    }
   ],
   "source": [
    "fans = {'variable': ['A', 'B', 'C', 'tc', 'beta', 'w', 'phi'], 'value': [A, B, C, tc2, beta2, w2, phi2]}\n",
    "fans = pd.DataFrame(fans)\n",
    "fans"
   ]
  }
 ],
 "metadata": {
  "interpreter": {
   "hash": "aee8b7b246df8f9039afb4144a1f6fd8d2ca17a180786b69acc140d282b71a49"
  },
  "kernelspec": {
   "display_name": "Python 3.10.2 64-bit",
   "language": "python",
   "name": "python3"
  },
  "language_info": {
   "codemirror_mode": {
    "name": "ipython",
    "version": 3
   },
   "file_extension": ".py",
   "mimetype": "text/x-python",
   "name": "python",
   "nbconvert_exporter": "python",
   "pygments_lexer": "ipython3",
   "version": "3.10.2"
  },
  "orig_nbformat": 4
 },
 "nbformat": 4,
 "nbformat_minor": 2
}
