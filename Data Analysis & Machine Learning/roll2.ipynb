{
 "cells": [
  {
   "cell_type": "code",
   "execution_count": 20,
   "metadata": {},
   "outputs": [],
   "source": [
    "import pandas as pd\n",
    "from datetime import datetime, timedelta\n",
    "import numpy as np\n",
    "\n",
    "import warnings\n",
    "warnings.filterwarnings('ignore')\n",
    "\n",
    "from openpyxl import load_workbook\n",
    "from datetime import date\n",
    "from datetime import datetime\n",
    "from dateutil.relativedelta import relativedelta\n",
    "from dateutil.rrule import rrule, DAILY\n",
    "from tqdm import tqdm"
   ]
  },
  {
   "cell_type": "code",
   "execution_count": 21,
   "metadata": {},
   "outputs": [],
   "source": [
    "pd.set_option('display.max_columns', None)\n",
    "pd.set_option('display.float_format', lambda x: '%.2f' % x)"
   ]
  },
  {
   "cell_type": "markdown",
   "metadata": {},
   "source": [
    "### Functions"
   ]
  },
  {
   "cell_type": "markdown",
   "metadata": {},
   "source": [
    "#### get data"
   ]
  },
  {
   "cell_type": "code",
   "execution_count": 22,
   "metadata": {},
   "outputs": [],
   "source": [
    "import pymssql  \n",
    "conn = pymssql.connect(server='10.220.8.32', \n",
    "                       user='ptuser',\n",
    "                       password='@Yuanta', \n",
    "                       database='PacketTimeStamp')\n",
    "cursor = conn.cursor()"
   ]
  },
  {
   "cell_type": "code",
   "execution_count": 23,
   "metadata": {},
   "outputs": [],
   "source": [
    "def daily_data_r(date, groupid):\n",
    "    date = date\n",
    "    query = f\"\"\"SELECT \n",
    "             [Pid]\n",
    "            ,[GroupId]\n",
    "            ,[BsSign]\n",
    "            ,[TxTime]\n",
    "            ,[TimePart]\n",
    "            ,[TimeStamp]\n",
    "            ,[BidQty1]\n",
    "            ,[Bid1]\n",
    "            ,[Ask1]\n",
    "            ,[AskQty1]\n",
    "            ,[DealPrice]\n",
    "            ,[DealQty]\n",
    "            ,[Type]\n",
    "            ,[SeqNo]\n",
    "            ,[MarketCode]\n",
    "            FROM [TickData].[dbo].[tblTickData_TAIFEX_Roll_{date}]\n",
    "            where groupid ='{groupid}'\n",
    "            \"\"\"\n",
    "    cursor.execute(query)\n",
    "    columns = ['Pid', 'GroupId', 'BsSign', 'TxTime', 'TimePart', 'TimeStamp', 'BidQty1', 'Bid1', 'Ask1', 'AskQty1', 'DealPrice', 'DealQty', 'Type', 'SeqNo', 'MarketCode']\n",
    "    roll = pd.DataFrame(columns=columns)\n",
    "    for row in cursor:\n",
    "        roll.loc[len(roll)] = list(row)\n",
    "    try:\n",
    "        roll = roll.drop(0)\n",
    "    except:\n",
    "        return \n",
    "    roll['TxTime'] = pd.to_datetime(roll['TxTime'])\n",
    "    roll = roll.sort_values(['Pid', 'TxTime'])\n",
    "    roll = roll.reset_index(drop=True)\n",
    "    return roll"
   ]
  },
  {
   "cell_type": "code",
   "execution_count": 24,
   "metadata": {},
   "outputs": [],
   "source": [
    "def get_key(my_dict, a):\n",
    "    key_list = list(my_dict.keys())\n",
    "    val_list = list(my_dict.values()) \n",
    "    # print key with val 100\n",
    "    position = val_list.index(a)\n",
    "    return key_list[position]"
   ]
  },
  {
   "cell_type": "code",
   "execution_count": 25,
   "metadata": {},
   "outputs": [],
   "source": [
    "def find_wed(start): # input 20230811\n",
    "    first_day = start.replace(day=1) # 20230801\n",
    "    for i in range(7):\n",
    "        if (first_day + timedelta(days=i)).isoweekday() == 3:\n",
    "            x = first_day + timedelta(days=i) \n",
    "            # x = 20230802 是第一個星期三\n",
    "        else:\n",
    "            continue\n",
    "    for i in range(6):\n",
    "        if start <= x + timedelta(days=7)*i:\n",
    "            return i+1\n",
    "        else:\n",
    "            continue"
   ]
  },
  {
   "cell_type": "code",
   "execution_count": 26,
   "metadata": {},
   "outputs": [],
   "source": [
    "def daily_data_f(date):\n",
    "    TickData = pd.DataFrame()\n",
    "    date2 = datetime.strptime(date, '%Y%m%d')\n",
    "    month_code = {'A':1, 'B':2, 'C':3, 'D':4, 'E':5, 'F':6, 'G':7, 'H':8, 'I':9, 'J':10, 'K':11, 'L':12}\n",
    "    code = get_key(month_code, int(date[4:6]))\n",
    "    if find_wed(date2)>3:\n",
    "        code = get_key(month_code, int(date[4:6])+1)\n",
    "    query = f\"SELECT [TxTime], [Pid], [Bid1], [Ask1] FROM [TickData].[dbo].[tblTickData_TAIFEX_{date}] where Pid = 'TXF{code}3'\"\n",
    "    TickData = pd.concat([TickData, pd.read_sql(query, conn)], axis = 0)\n",
    "    TickData['TxTime'] = pd.to_datetime(TickData['TxTime'])\n",
    "    TickData = TickData.drop_duplicates(keep='first')\n",
    "    TickData = TickData.sort_values(['TxTime', 'Bid1', 'Ask1']).reset_index(drop=True)\n",
    "    # delete all rows with column 'Age' has value 30 to 40\n",
    "    indexba0 = TickData[ (TickData['Bid1'] == '0') | (TickData['Ask1']== '0') ].index\n",
    "    TickData.drop(indexba0 , inplace=True)\n",
    "    return TickData"
   ]
  },
  {
   "cell_type": "markdown",
   "metadata": {},
   "source": [
    "#### calculation"
   ]
  },
  {
   "cell_type": "markdown",
   "metadata": {},
   "source": [
    "##### 沒相關係數"
   ]
  },
  {
   "cell_type": "code",
   "execution_count": 27,
   "metadata": {},
   "outputs": [],
   "source": [
    "def calculation_2(roll):\n",
    "    roll['買賣寬'] = (roll['Bid1'] - roll['Ask1']).abs()\n",
    "    roll['流動差'] = np.where(roll['買賣寬'] > 30, 1, np.nan)\n",
    "    roll['流動好'] = np.where(roll['買賣寬'] > 30, np.nan, 1)\n",
    "    roll['買賣寬*流動好'] = roll['買賣寬']*roll['流動好']\n",
    "    def in_amount(roll):\n",
    "        if roll['DealPrice'] <= roll['Bid1']:\n",
    "            return roll['DealQty']\n",
    "        else:\n",
    "            return\n",
    "    roll['內盤量'] = roll.apply(in_amount, axis = 1)\n",
    "    roll['內盤金額'] = roll['內盤量']*roll['DealPrice']\n",
    "    roll['外盤量'] = np.where(roll['DealPrice'] >= roll['Ask1'], roll['DealQty'], np.nan)\n",
    "    roll['外盤金額'] = roll['外盤量']*roll['DealPrice']\n",
    "    def excess_in_amount(roll):\n",
    "        if roll['Type'] == 'Roll':\n",
    "            return 0\n",
    "        if roll['DealPrice'] < roll['Bid1']:\n",
    "            return roll['DealQty']\n",
    "        else:\n",
    "            return 0\n",
    "    roll['超額內量'] = roll.apply(excess_in_amount, axis = 1)\n",
    "    def excess_out_amount(roll):\n",
    "        if roll['Type'] == 'Roll':\n",
    "            return 0\n",
    "        if roll['DealPrice'] > roll['Ask1']:\n",
    "            return roll['DealQty']\n",
    "        else:\n",
    "            return 0\n",
    "    roll['超額外量'] = roll.apply(excess_out_amount, axis = 1)\n",
    "    def bid_liq_good(roll):\n",
    "        return roll['Bid1']*roll['流動好']\n",
    "    roll['Bid*流動好'] = roll.apply(bid_liq_good, axis = 1)\n",
    "    def Ask_liq_good(roll):\n",
    "        return roll['Ask1']*roll['流動好']\n",
    "    roll['Ask*流動好'] = roll.apply(Ask_liq_good, axis = 1)\n",
    "    def excess_gap(row):\n",
    "        if row['DealPrice'] < row['Bid1']:\n",
    "            return (row['Bid1'] - row['DealPrice'])*row['超額內量']\n",
    "        elif row['DealPrice'] > row['Ask1']:\n",
    "            return (row['DealPrice'] - row['Ask1'])*row['超額外量']\n",
    "        return 0\n",
    "    roll['超額價差'] = roll.apply(excess_gap, axis=1)\n",
    "    \n",
    "    roll['Bid*流動好'] = roll['Bid*流動好'].astype(float)\n",
    "    roll['Ask*流動好'] = roll['Ask*流動好'].astype(float)"
   ]
  },
  {
   "cell_type": "code",
   "execution_count": 28,
   "metadata": {},
   "outputs": [],
   "source": [
    "def daily_result_2(roll, date):\n",
    "    daily_result = []\n",
    "    def Avg_range(x):\n",
    "        try:\n",
    "            return x['買賣寬*流動好'].sum()/x['流動好'].sum()\n",
    "        except:\n",
    "            return\n",
    "    daily_result.append(roll.groupby(['Pid', 'MarketCode']).apply(Avg_range))\n",
    "    daily_result.append(roll.groupby(['Pid', 'MarketCode'])['流動差'].sum())\n",
    "    daily_result.append(roll.groupby(['Pid', 'MarketCode'])['內盤量'].sum())\n",
    "    def divid_df_in(x):\n",
    "        try:\n",
    "            return x['內盤金額'].sum()/x['內盤量'].sum()\n",
    "        except:\n",
    "            return\n",
    "    daily_result.append(roll.groupby(['Pid', 'MarketCode']).apply(divid_df_in))\n",
    "    daily_result.append(roll.groupby(['Pid', 'MarketCode'])['外盤量'].sum())\n",
    "    def divid_df_out(x):\n",
    "        try:\n",
    "            return x['外盤金額'].sum()/x['外盤量'].sum()\n",
    "        except:\n",
    "            return\n",
    "    daily_result.append(roll.groupby(['Pid', 'MarketCode']).apply(divid_df_out))   \n",
    "    daily_result.append(roll.groupby(['Pid', 'MarketCode']).apply(lambda x: x['Ask*流動好'].max() - x['Bid*流動好'].min()))\n",
    "    daily_result.append(roll.groupby(['Pid', 'MarketCode']).apply(lambda x: x['超額內量'].sum() + x['超額外量'].sum()))\n",
    "    daily_result.append(roll.groupby(['Pid', 'MarketCode'])['超額價差'].sum())\n",
    "    \n",
    "    daily_result_df = pd.concat(daily_result, axis = 1).reset_index()\n",
    "    daily_result_df.insert(0, '日期', date)\n",
    "    columns2 = ['日期', 'Pid', '日夜盤','買賣寬平均', '流動不好筆數', '內盤量', '內盤均價', '外盤量', '外盤均價', 'roll震幅', '超額總口數', '超額總點數']\n",
    "    daily_result_df.columns = columns2\n",
    "    return daily_result_df"
   ]
  },
  {
   "cell_type": "code",
   "execution_count": 29,
   "metadata": {},
   "outputs": [],
   "source": [
    "def daily_result_2(roll, date):\n",
    "    daily_result = []\n",
    "    daily_result.append(roll.groupby(['Pid', 'MarketCode'])['買賣寬*流動好'].sum())\n",
    "    daily_result.append(roll.groupby(['Pid', 'MarketCode'])['流動好'].sum())\n",
    " \n",
    "    daily_result_df = pd.concat(daily_result, axis = 1).reset_index()\n",
    "    daily_result_df.insert(0, '日期', date)\n",
    "    columns2 = ['日期', 'Pid', '日夜盤','買賣寬總和', '流動好筆數']\n",
    "    daily_result_df.columns = columns2\n",
    "    return daily_result_df"
   ]
  },
  {
   "cell_type": "markdown",
   "metadata": {},
   "source": [
    "##### 有相關係數"
   ]
  },
  {
   "cell_type": "code",
   "execution_count": 30,
   "metadata": {},
   "outputs": [],
   "source": [
    "def calculation(roll):\n",
    "    roll['買賣寬'] = np.where(roll['BidQty1'] == 0, 31, (roll['Bid1_x'] - roll['Ask1_x']).abs())\n",
    "    roll['流動差'] = np.where(roll['買賣寬'] > 30, 1, 0)\n",
    "    roll['流動好'] = np.where(roll['買賣寬'] > 30, 0, 1)\n",
    "    def in_amount(roll):\n",
    "        if roll['DealPrice'] <= roll['Bid1_x']:\n",
    "            return roll['DealQty']\n",
    "        else:\n",
    "            return 0\n",
    "    roll['內盤量'] = roll.apply(in_amount, axis = 1)\n",
    "    def out_amount(roll):\n",
    "        if roll['DealPrice'] >= roll['Ask1_x']:\n",
    "            return roll['DealQty']\n",
    "        else:\n",
    "            return 0\n",
    "    roll['外盤量'] = roll.apply(out_amount, axis = 1)\n",
    "    roll['內外盤量差'] = roll['外盤量'] - roll['內盤量']\n",
    "    def Avg_BA(roll):\n",
    "        if roll['AskQty1'] == 0:\n",
    "            return \n",
    "        if roll['BidQty1'] == 0:\n",
    "            return \n",
    "        else:\n",
    "            return (roll['Bid1_x'] + roll['Ask1_x'])/2\n",
    "    roll['Avg_BA'] = roll.apply(Avg_BA, axis = 1)\n",
    "    roll['diff'] = roll.groupby(['Pid_x', 'MarketCode'])[['Avg_BA']].diff()\n",
    "    def sign(row):\n",
    "        if pd.isnull(row['diff']) or row['diff'] == 0:\n",
    "            return 0\n",
    "        return row['流動好']\n",
    "    roll['sign'] = roll.apply(sign, axis = 1)\n",
    "    roll['Avg_BA_f'] = np.where(roll['Bid1_y']==0, np.nan, (roll['Bid1_y'] + roll['Ask1_y'])/2)\n",
    "    \n",
    "    roll['Avg_BA'] = roll['Avg_BA'].astype(float)\n",
    "    roll['Avg_BA_f'] = roll['Avg_BA_f'].astype(float)\n",
    "\n",
    "    def cul_dev_f(roll):\n",
    "        cul_dev = []\n",
    "        for i in range(len(roll)):\n",
    "            if i == 0:\n",
    "                mc = roll.loc[i, 'MarketCode']\n",
    "                cum = roll.loc[i, '內外盤量差']\n",
    "                continue\n",
    "            if mc != roll.loc[i, 'MarketCode']:\n",
    "                mc = roll.loc[i, 'MarketCode']\n",
    "                cum = roll.loc[i, '內外盤量差']\n",
    "                continue\n",
    "            cum += roll.loc[i, '內外盤量差']\n",
    "            if roll.loc[i, 'diff'] != 0:\n",
    "                cul_dev.append(cum)\n",
    "                cum = 0\n",
    "        return cul_dev\n",
    "    cul_dev = cul_dev_f(roll)\n",
    "\n",
    "    roll2 = roll[roll['diff']!=0].reset_index(drop = True)\n",
    "    roll2['diff_f'] = roll2['Avg_BA_f'].diff()\n",
    "    roll2 = roll2.dropna()\n",
    "    roll2.insert(29, '累積量差', cul_dev)\n",
    "    return roll2"
   ]
  },
  {
   "cell_type": "code",
   "execution_count": 31,
   "metadata": {},
   "outputs": [],
   "source": [
    "def daily_result(roll, input_month, groupid1):\n",
    "    daily_result = []\n",
    "    def corr_f(x):\n",
    "        m = x['diff'][x['sign']==1]\n",
    "        n = x['diff_f']\n",
    "        return m.corr(n)\n",
    "    daily_result.append(roll.groupby(['Pid_x', 'MarketCode']).apply(corr_f))\n",
    "    def corr_a(x):\n",
    "        m = x['diff'][x['sign']==1]\n",
    "        n = x['累積量差']\n",
    "        return m.corr(n)\n",
    "    daily_result.append(roll.groupby(['Pid_x', 'MarketCode']).apply(corr_a))\n",
    "    \n",
    "    daily_result_df = pd.concat(daily_result, axis = 1).reset_index()\n",
    "    daily_result_df.insert(0, '月', input_month)\n",
    "    daily_result_df.insert(0, 'GroupID', groupid1)\n",
    "    columns2 = ['GroupID', '月', 'Pid', '日夜盤','期貨相關性', '盤量相關性']\n",
    "    daily_result_df.columns = columns2\n",
    "    return daily_result_df"
   ]
  },
  {
   "cell_type": "markdown",
   "metadata": {},
   "source": [
    "#### 處理代碼"
   ]
  },
  {
   "cell_type": "code",
   "execution_count": 32,
   "metadata": {},
   "outputs": [
    {
     "data": {
      "text/plain": [
       "datetime.datetime(2023, 7, 31, 0, 0)"
      ]
     },
     "execution_count": 32,
     "metadata": {},
     "output_type": "execute_result"
    }
   ],
   "source": [
    "import calendar\n",
    "def find_last_day(now):\n",
    "    now = datetime.strptime(now, '%Y%m%d')\n",
    "    last = calendar.monthrange(now.year, now.month)[1]\n",
    "    last_day = now.replace(day=last)\n",
    "    return last_day\n",
    "\n",
    "now = '20230708'\n",
    "find_last_day(now)"
   ]
  },
  {
   "cell_type": "code",
   "execution_count": 33,
   "metadata": {},
   "outputs": [
    {
     "data": {
      "text/plain": [
       "6"
      ]
     },
     "execution_count": 33,
     "metadata": {},
     "output_type": "execute_result"
    }
   ],
   "source": [
    "from datetime import datetime, timedelta\n",
    "\n",
    "def find_wed(start):\n",
    "    first_day = start.replace(day=1)\n",
    "    for i in range(7):\n",
    "        if (first_day + timedelta(days=i)).isoweekday() == 3:\n",
    "            x = first_day + timedelta(days=i)\n",
    "        else:\n",
    "            continue\n",
    "    for i in range(6):\n",
    "        if start <= x + timedelta(days=7)*i:\n",
    "            return i+1\n",
    "        else:\n",
    "            continue\n",
    "\n",
    "now = '20230831'\n",
    "now = datetime.strptime(now, '%Y%m%d')\n",
    "find_wed(now)"
   ]
  },
  {
   "cell_type": "code",
   "execution_count": 34,
   "metadata": {},
   "outputs": [],
   "source": [
    "month_code = {'A':'01', 'B':'02', 'C':'03', 'D':'04', 'E':'05', 'F':'06', 'G':'07', 'H':'08', 'I':'09', 'J':'10', 'K':'11', 'L':'12'}"
   ]
  },
  {
   "cell_type": "code",
   "execution_count": 35,
   "metadata": {},
   "outputs": [
    {
     "data": {
      "text/plain": [
       "'others'"
      ]
     },
     "execution_count": 35,
     "metadata": {},
     "output_type": "execute_result"
    }
   ],
   "source": [
    "def Pid_class(a, time):\n",
    "    time2 = datetime.strptime(time, '%Y%m%d')\n",
    "    if a[2] == 'F':#月合約\n",
    "        now = time2.month\n",
    "        input = int(month_code[a[3]])\n",
    "        if find_wed(time2) > 3:\n",
    "            now = now + 1\n",
    "        if int(a[4]) > int(time[3]):\n",
    "            input = input +12\n",
    "        val = input - now\n",
    "        if val < 3:\n",
    "            return 'C'+ f'{val + 1}'\n",
    "        if input%3 == 0: # 6, 9, 12\n",
    "            if val < 6:\n",
    "                return 'C4'\n",
    "            elif val < 9:\n",
    "                return 'C5'\n",
    "            elif val < 12:\n",
    "                return 'C6'\n",
    "            else:\n",
    "                return 'others'\n",
    "        else:\n",
    "            return 'others'\n",
    "\n",
    "    else: #週合約\n",
    "        if a[4] == time[3]: #同年\n",
    "            if month_code[a[3]] == time[4:6]: #同月\n",
    "                return 'W' + f'{int(a[2]) - find_wed(time2) + 1}'\n",
    "            elif int(month_code[a[3]]) == time2.month + 1:\n",
    "                if find_wed(find_last_day(time)) == 5:\n",
    "                    return 'W' + f'{int(a[2]) - find_wed(time2) + 5}'\n",
    "                if find_wed(find_last_day(time)) == 6:\n",
    "                    return 'W' + f'{int(a[2]) - find_wed(time2) + 6}'\n",
    "        else: # 12月跨1月\n",
    "            if int(month_code[a[3]]) + 12 == time2.month + 1:\n",
    "                return 'W' + f'{int(a[2]) - find_wed(time2) + 5}'\n",
    "a = 'MXFK3'#'MX1F3'\n",
    "time = '20230719'#'20230530'\n",
    "Pid_class(a, time)"
   ]
  },
  {
   "cell_type": "code",
   "execution_count": 36,
   "metadata": {},
   "outputs": [],
   "source": [
    "def Pid_tran(row):\n",
    "    l1 = row['Pid'].split('/')\n",
    "    time = row['日期']\n",
    "    left = l1[0]\n",
    "    right = l1[1]\n",
    "    if len(row['Pid']) == 8: # 月/月\n",
    "        right = 'MXF' + right\n",
    "    return Pid_class(left, time) + '/' + Pid_class(right, time)"
   ]
  },
  {
   "cell_type": "markdown",
   "metadata": {},
   "source": [
    "#### merge data"
   ]
  },
  {
   "cell_type": "code",
   "execution_count": 37,
   "metadata": {},
   "outputs": [],
   "source": [
    "def delete_bad_rows(roll):    \n",
    "    roll['Bid1'] = roll['Bid1'].astype(float)\n",
    "    roll['Ask1'] = roll['Ask1'].astype(float)\n",
    "    roll['DealPrice'] = roll['DealPrice'].astype(float)\n",
    "    roll = roll[roll['BidQty1']!= 0]\n",
    "    roll = roll[roll['AskQty1']!= 0]\n",
    "    roll = roll[roll['Bid1'].map(float.is_integer)]\n",
    "    roll = roll[roll['Ask1'].map(float.is_integer)]\n",
    "    return roll"
   ]
  },
  {
   "cell_type": "code",
   "execution_count": 38,
   "metadata": {},
   "outputs": [],
   "source": [
    "def only_c1c2(roll):\n",
    "    def only_date(row):\n",
    "        val = str(row['TxTime'])[:10]\n",
    "        l1 = val.split('-')\n",
    "        return l1[0]+l1[1]+l1[2]\n",
    "    roll['日期'] = roll.apply(only_date, axis = 1)\n",
    "    roll.insert(1, \"Pid_trans\", roll.apply(Pid_tran, axis=1))\n",
    "    return roll[roll['Pid_trans']=='C1/C2'], roll[roll['Pid_trans']!='C1/C2']"
   ]
  },
  {
   "cell_type": "code",
   "execution_count": 39,
   "metadata": {},
   "outputs": [],
   "source": [
    "def daily_data_all(roll, TickData): \n",
    "    roll2 = pd.merge_asof(roll.sort_values('TxTime'), TickData.sort_values('TxTime'), on = 'TxTime')\n",
    "    roll2.sort_values(['Pid_x', 'TxTime'])\n",
    "    roll2 = roll2.reset_index(drop=True)\n",
    "    columns = ['Pid_x', 'Pid_trans', 'Pid_y', 'GroupId', 'BsSign', 'TxTime', 'TimePart',\n",
    "               'TimeStamp', 'BidQty1', 'Bid1_x', 'Ask1_x', 'AskQty1', 'DealPrice',\n",
    "               'DealQty', 'Type', 'MarketCode', 'Bid1_y', 'Ask1_y']\n",
    "    roll2 = roll2[columns]\n",
    "    roll2['Bid1_y'] = pd.to_numeric(roll2['Bid1_y'])\n",
    "    roll2['Ask1_y'] = pd.to_numeric(roll2['Ask1_y'])\n",
    "    return roll2"
   ]
  },
  {
   "cell_type": "markdown",
   "metadata": {},
   "source": [
    "### Main"
   ]
  },
  {
   "cell_type": "markdown",
   "metadata": {},
   "source": [
    "##### 沒相關係數"
   ]
  },
  {
   "cell_type": "code",
   "execution_count": null,
   "metadata": {},
   "outputs": [],
   "source": [
    "from pandas import ExcelWriter\n",
    "w = ExcelWriter('roll_result0816.xlsx')\n",
    "date_range = pd.date_range(start = '20230201', end = '20230706')\n",
    "for groupid1 in ['MX', 'TX']:\n",
    "    roll_result = []\n",
    "    roll_result_df = pd.DataFrame()\n",
    "    for i in date_range:\n",
    "        try:\n",
    "            date2 = i.strftime('%Y%m%d')\n",
    "            daily_roll = daily_data_r(date2, groupid1)\n",
    "            if daily_roll.empty:\n",
    "                continue\n",
    "            daily_roll = delete_bad_rows(daily_roll)\n",
    "            calculation_2(daily_roll)\n",
    "            daily_result_df = daily_result_2(daily_roll, date2)\n",
    "            roll_result.append(daily_result_df)\n",
    "        except:\n",
    "            continue\n",
    "    roll_result_df = pd.concat(roll_result, axis = 0)\n",
    "    roll_result_df.insert(2, \"Pid_trans\", roll_result_df.apply(Pid_tran, axis=1))\n",
    "    roll_result_df = roll_result_df.sort_values(['日期', 'Pid_trans']).reset_index(drop=True)\n",
    "    roll_result_df.to_excel(w, sheet_name=f'{groupid1}')\n",
    "w.save()\n",
    "w.close()\n",
    "# \"\"\" "
   ]
  },
  {
   "cell_type": "code",
   "execution_count": null,
   "metadata": {},
   "outputs": [],
   "source": [
    "#\"\"\" test\n",
    "date1 = '20230615'\n",
    "groupid1 = 'MX'\n",
    "daily_roll = daily_data_r(date1, groupid1)\n",
    "daily_roll = delete_bad_rows(daily_roll)\n",
    "daily_roll_c1c2, daily_roll_other = only_c1c2(daily_roll)\n",
    "calculation_2(daily_roll_c1c2)\n",
    "daily_result_df = daily_result_2(daily_roll_c1c2, date1)\n",
    "daily_result_df\n",
    "#wide = daily_result_df.groupby(['Pid', 'MarketCode'])['買賣寬總和'].sum()\n",
    "#liquid = daily_result_df['流動好筆數'].sum()\n",
    "#daily_roll[daily_roll['Pid']=='MXFC3/L3']\n",
    "#daily_roll[daily_roll['Bid1'].map(float.is_integer)]\n",
    "#daily_result_df[daily_result_df['Pid']=='MXFC3/L3']\n",
    "# \"\"\""
   ]
  },
  {
   "cell_type": "code",
   "execution_count": null,
   "metadata": {},
   "outputs": [],
   "source": [
    "day_wide_c1c2 = daily_result_df.loc[0, '買賣寬總和']\n",
    "day_liquid_c1c2 = daily_result_df.loc[0, '流動好筆數']\n",
    "night_wide_c1c2 = daily_result_df.loc[1, '買賣寬總和']\n",
    "night_liquid_c1c2 = daily_result_df.loc[1, '流動好筆數']\n",
    "[day_wide_c1c2, day_liquid_c1c2, night_wide_c1c2, night_liquid_c1c2]"
   ]
  },
  {
   "cell_type": "code",
   "execution_count": null,
   "metadata": {},
   "outputs": [],
   "source": [
    "calculation_2(daily_roll_other)\n",
    "daily_result_df2 = daily_result_2(daily_roll_other, date1)\n",
    "daily_result_df2 "
   ]
  },
  {
   "cell_type": "code",
   "execution_count": null,
   "metadata": {},
   "outputs": [],
   "source": [
    "day_wide_other = daily_result_df2.groupby(['日夜盤'])['買賣寬總和'].sum()[0]\n",
    "night_wide_other = daily_result_df2.groupby(['日夜盤'])['買賣寬總和'].sum()[1]\n",
    "day_liquid_other = daily_result_df2.groupby(['日夜盤'])['流動好筆數'].sum()[0]\n",
    "night_liquid_other = daily_result_df2.groupby(['日夜盤'])['流動好筆數'].sum()[1]"
   ]
  },
  {
   "cell_type": "code",
   "execution_count": null,
   "metadata": {},
   "outputs": [],
   "source": [
    "daily_result_df2.groupby(['日夜盤'])['流動好筆數'].sum()"
   ]
  },
  {
   "cell_type": "markdown",
   "metadata": {},
   "source": [
    "##### 有相關係數"
   ]
  },
  {
   "cell_type": "code",
   "execution_count": null,
   "metadata": {},
   "outputs": [],
   "source": [
    "from pandas import ExcelWriter\n",
    "from openpyxl import load_workbook\n",
    "from tqdm import tqdm\n",
    "\n",
    "date_range = pd.date_range(start = '20230601', end = '20230721')\n",
    "# 0601~0706, \n",
    "for groupid1 in tqdm(['MX', 'TX']):\n",
    "    roll_result = []\n",
    "    roll_result_df = pd.DataFrame()\n",
    "    for i in date_range:\n",
    "        try:\n",
    "            date2 = i.strftime('%Y%m%d')\n",
    "            daily_roll = daily_data_r(date2, groupid1)\n",
    "            if daily_roll.empty:\n",
    "                continue\n",
    "            daily_roll = delete_bad_rows(daily_roll)\n",
    "            TickData = daily_data_f(date2)\n",
    "            daily_roll = only_c1c2(daily_roll)\n",
    "            daily_roll2 = daily_data_all(daily_roll, TickData)\n",
    "            daily_roll3 = calculation(daily_roll2)\n",
    "            daily_result_df = daily_result(daily_roll3, date2)\n",
    "            roll_result.append(daily_result_df)\n",
    "        except:\n",
    "            continue\n",
    "    roll_result_df = pd.concat(roll_result, axis = 0)\n",
    "    roll_result_df.insert(2, \"Pid_trans\", roll_result_df.apply(Pid_tran, axis=1))\n",
    "    roll_result_df = roll_result_df.sort_values(['日期', 'Pid_trans']).reset_index(drop=True)\n",
    "    # roll_result_df.to_excel(w, sheet_name=f'{groupid1}')\n",
    "\n",
    "    filename = 'roll_result0816cor.xlsx'\n",
    "    workbook = load_workbook(filename)\n",
    "    writer = pd.ExcelWriter(filename, engine='openpyxl')\n",
    "    writer.book = workbook\n",
    "    writer.sheets = {ws.title: ws for ws in workbook.worksheets}\n",
    "    roll_result_df.to_excel(writer, startrow=writer.sheets[f'{groupid1}'].max_row, index = False, header= False, sheet_name=f'{groupid1}')\n",
    "    writer.close()\n",
    "# \"\"\" "
   ]
  },
  {
   "cell_type": "code",
   "execution_count": null,
   "metadata": {},
   "outputs": [],
   "source": [
    "#\"\"\" 範例\n",
    "date2 = '20230328'\n",
    "groupid1 = 'TX'\n",
    "roll_result = []\n",
    "daily_roll = daily_data_r(date2, groupid1)\n",
    "daily_roll = delete_bad_rows(daily_roll)\n",
    "daily_roll = only_c1c2(daily_roll)\n",
    "TickData = daily_data_f(date2)\n",
    "daily_roll2 = daily_data_all(daily_roll, TickData)\n",
    "calculation(daily_roll2)\n",
    "\n",
    "daily_result_df, daily_roll3 = daily_result(daily_roll2, date2)\n",
    "daily_roll2[daily_roll2['MarketCode']==1][daily_roll2['diff']!=0]\n",
    "# daily_result_df\n",
    "#\"\"\""
   ]
  },
  {
   "cell_type": "code",
   "execution_count": null,
   "metadata": {},
   "outputs": [],
   "source": [
    "daily_roll2[daily_roll2['MarketCode']==1]"
   ]
  },
  {
   "cell_type": "code",
   "execution_count": null,
   "metadata": {},
   "outputs": [],
   "source": [
    "from pandas import ExcelWriter\n",
    "w2 = ExcelWriter(f'raw{date2}_{groupid1}0808.xlsx')\n",
    "daily_roll2.to_excel(w2, 'raw data')\n",
    "daily_roll3.to_excel(w2, 'diff!=0')\n",
    "daily_result_df.to_excel(w2, 'correlation result')\n",
    "w2.save()\n",
    "w2.close()"
   ]
  },
  {
   "cell_type": "markdown",
   "metadata": {},
   "source": [
    "##### Monthly and last week correlation"
   ]
  },
  {
   "cell_type": "code",
   "execution_count": 43,
   "metadata": {},
   "outputs": [],
   "source": [
    "def third_wed(month:str):\n",
    "    for i in range(7,25):\n",
    "        date = month\n",
    "        date = date + str(i)\n",
    "        date2 = datetime.strptime(date, '%Y%m%d')\n",
    "        if find_wed(date2) == 3:\n",
    "            return date2\n",
    "def find_period(month:str):\n",
    "    day1 = datetime.strptime(month, '%Y%m')\n",
    "    date_after_month = day1 - relativedelta(months=1)\n",
    "    last_month = str(date_after_month)[:7]. replace('-', '')\n",
    "    begin = third_wed(last_month)+timedelta(days=7)\n",
    "    end = third_wed(month)+timedelta(days=6)\n",
    "    return begin, end\n",
    "def find_lastweek(month:str):\n",
    "    day1 = datetime.strptime(month, '%Y%m')\n",
    "    begin = third_wed(month)\n",
    "    end = third_wed(month)+timedelta(days=6)\n",
    "    return begin, end"
   ]
  },
  {
   "cell_type": "code",
   "execution_count": null,
   "metadata": {},
   "outputs": [],
   "source": [
    "#input_month = '202305'\n",
    "method = find_lastweek # find_period\n",
    "for input_month in tqdm(['202301', '202302', '202303', '202304', '202305', '202306', '202307']):\n",
    "    beg = method(input_month)[0].strftime(\"%Y%m%d\")\n",
    "    end = method(input_month)[1].strftime(\"%Y%m%d\")\n",
    "\n",
    "    date_range = pd.date_range(start = beg, end = end)\n",
    "    roll_result = pd.DataFrame()\n",
    "    for groupid1 in ['MX', 'TX']:\n",
    "        daily_roll_l = []\n",
    "        roll_result_df = pd.DataFrame()\n",
    "        for i in date_range:\n",
    "            try:\n",
    "                date2 = i.strftime('%Y%m%d')\n",
    "                daily_roll = daily_data_r(date2, groupid1)\n",
    "                if daily_roll.empty:\n",
    "                    continue\n",
    "                daily_roll = delete_bad_rows(daily_roll)\n",
    "                TickData = daily_data_f(date2)\n",
    "                daily_roll = only_c1c2(daily_roll)\n",
    "                daily_roll2 = daily_data_all(daily_roll, TickData)\n",
    "                daily_roll3 = calculation(daily_roll2)\n",
    "                daily_roll_l.append(daily_roll3)\n",
    "            except:\n",
    "                continue\n",
    "        daily_roll_df = pd.concat(daily_roll_l, axis = 0).sort_values(['GroupId', 'TxTime', 'MarketCode'])\n",
    "        monthly_result_df = daily_result(daily_roll_df, input_month, groupid1)\n",
    "        roll_result = pd.concat([roll_result,  monthly_result_df], axis = 0)\n",
    "\n",
    "    filename = \"roll_correlation.xlsx\"\n",
    "    workbook = load_workbook(filename)\n",
    "    writer = pd.ExcelWriter(filename, engine='openpyxl')\n",
    "    writer.book = workbook\n",
    "    writer.sheets = {ws.title: ws for ws in workbook.worksheets}\n",
    "    roll_result.to_excel(writer, startrow=writer.sheets['weekly'].max_row, index = False, header= False, sheet_name='weekly')\n",
    "    writer.close()"
   ]
  },
  {
   "cell_type": "code",
   "execution_count": 42,
   "metadata": {},
   "outputs": [],
   "source": [
    "def divide(x, y):\n",
    "    try:\n",
    "        return x/y\n",
    "    except:\n",
    "        return 0"
   ]
  },
  {
   "cell_type": "code",
   "execution_count": 44,
   "metadata": {},
   "outputs": [
    {
     "name": "stderr",
     "output_type": "stream",
     "text": [
      "100%|██████████| 2/2 [08:20<00:00, 250.06s/it]\n"
     ]
    }
   ],
   "source": [
    "#input_month = '202305'\n",
    "method = find_period\n",
    "result = []\n",
    "\n",
    "for input_month in tqdm(['202307', '202308']):\n",
    "    beg = method(input_month)[0].strftime(\"%Y%m%d\")\n",
    "    end = method(input_month)[1].strftime(\"%Y%m%d\")\n",
    "\n",
    "    date_range = pd.date_range(start = beg, end = end)\n",
    "    roll_result = pd.DataFrame()\n",
    "    for groupid1 in ['MX', 'TX']:\n",
    "        roll_result_df = pd.DataFrame()\n",
    "        day_wide_c1c2 = 0\n",
    "        day_wide_other = 0\n",
    "        night_wide_c1c2 = 0\n",
    "        night_wide_other = 0\n",
    "\n",
    "        day_liquid_c1c2 = 0\n",
    "        day_liquid_other = 0\n",
    "        night_liquid_c1c2 = 0\n",
    "        night_liquid_other = 0\n",
    "\n",
    "        for i in date_range:\n",
    "            date2 = i.strftime('%Y%m%d')\n",
    "            try:\n",
    "                daily_roll = daily_data_r(date2, groupid1)\n",
    "            except:\n",
    "                continue\n",
    "            if daily_roll is None:\n",
    "                continue\n",
    "            daily_roll = delete_bad_rows(daily_roll)\n",
    "            daily_roll_c1c2, daily_roll_other = only_c1c2(daily_roll)\n",
    "\n",
    "            # c1/c2\n",
    "            if daily_roll_c1c2.empty:\n",
    "                pass\n",
    "            else:\n",
    "                calculation_2(daily_roll_c1c2)\n",
    "                daily_result_df = daily_result_2(daily_roll_c1c2, date2)\n",
    "            try:\n",
    "                day_wide_c1c2 += daily_result_df.loc[0, '買賣寬總和']\n",
    "            except:\n",
    "                pass\n",
    "            try:\n",
    "                day_liquid_c1c2 += daily_result_df.loc[0, '流動好筆數']\n",
    "            except:\n",
    "                pass\n",
    "            try:\n",
    "                night_wide_c1c2 += daily_result_df.loc[1, '買賣寬總和']\n",
    "            except:\n",
    "                pass\n",
    "            try:\n",
    "                night_liquid_c1c2 += daily_result_df.loc[1, '流動好筆數']\n",
    "            except:\n",
    "                pass\n",
    "\n",
    "            # non c1/c2\n",
    "            calculation_2(daily_roll_other)\n",
    "            daily_result_df2 = daily_result_2(daily_roll_other, date2)\n",
    "            try:\n",
    "                day_wide_other += daily_result_df2.groupby(['日夜盤'])['買賣寬總和'].sum()[0]\n",
    "            except:\n",
    "                pass\n",
    "            try:\n",
    "                day_liquid_other += daily_result_df2.groupby(['日夜盤'])['流動好筆數'].sum()[0]\n",
    "            except:\n",
    "                pass\n",
    "            try:\n",
    "                night_wide_other += daily_result_df2.groupby(['日夜盤'])['買賣寬總和'].sum()[1]\n",
    "            except:\n",
    "                pass\n",
    "            try:\n",
    "                night_liquid_other += daily_result_df2.groupby(['日夜盤'])['流動好筆數'].sum()[1]\n",
    "            except:\n",
    "                pass\n",
    "\n",
    "        day_c1c2 = divide(day_wide_c1c2,day_liquid_c1c2)\n",
    "        night_c1c2 = divide(night_wide_c1c2,night_liquid_c1c2)\n",
    "        day_other = divide(day_wide_other,day_liquid_other)\n",
    "        night_other = divide(night_wide_other,night_liquid_other)\n",
    "        result.append([input_month, groupid1, day_c1c2, day_other, night_c1c2, night_other])\n",
    "            \n"
   ]
  },
  {
   "cell_type": "code",
   "execution_count": 46,
   "metadata": {},
   "outputs": [
    {
     "data": {
      "text/html": [
       "<div>\n",
       "<style scoped>\n",
       "    .dataframe tbody tr th:only-of-type {\n",
       "        vertical-align: middle;\n",
       "    }\n",
       "\n",
       "    .dataframe tbody tr th {\n",
       "        vertical-align: top;\n",
       "    }\n",
       "\n",
       "    .dataframe thead th {\n",
       "        text-align: right;\n",
       "    }\n",
       "</style>\n",
       "<table border=\"1\" class=\"dataframe\">\n",
       "  <thead>\n",
       "    <tr style=\"text-align: right;\">\n",
       "      <th></th>\n",
       "      <th>0</th>\n",
       "      <th>1</th>\n",
       "      <th>2</th>\n",
       "      <th>3</th>\n",
       "      <th>4</th>\n",
       "      <th>5</th>\n",
       "    </tr>\n",
       "  </thead>\n",
       "  <tbody>\n",
       "    <tr>\n",
       "      <th>0</th>\n",
       "      <td>202307</td>\n",
       "      <td>MX</td>\n",
       "      <td>2.91</td>\n",
       "      <td>4.67</td>\n",
       "      <td>2.78</td>\n",
       "      <td>4.46</td>\n",
       "    </tr>\n",
       "    <tr>\n",
       "      <th>1</th>\n",
       "      <td>202307</td>\n",
       "      <td>TX</td>\n",
       "      <td>1.80</td>\n",
       "      <td>5.45</td>\n",
       "      <td>2.39</td>\n",
       "      <td>5.43</td>\n",
       "    </tr>\n",
       "    <tr>\n",
       "      <th>2</th>\n",
       "      <td>202308</td>\n",
       "      <td>MX</td>\n",
       "      <td>2.88</td>\n",
       "      <td>4.63</td>\n",
       "      <td>2.66</td>\n",
       "      <td>4.53</td>\n",
       "    </tr>\n",
       "    <tr>\n",
       "      <th>3</th>\n",
       "      <td>202308</td>\n",
       "      <td>TX</td>\n",
       "      <td>1.70</td>\n",
       "      <td>5.38</td>\n",
       "      <td>2.35</td>\n",
       "      <td>5.16</td>\n",
       "    </tr>\n",
       "  </tbody>\n",
       "</table>\n",
       "</div>"
      ],
      "text/plain": [
       "        0   1    2    3    4    5\n",
       "0  202307  MX 2.91 4.67 2.78 4.46\n",
       "1  202307  TX 1.80 5.45 2.39 5.43\n",
       "2  202308  MX 2.88 4.63 2.66 4.53\n",
       "3  202308  TX 1.70 5.38 2.35 5.16"
      ]
     },
     "execution_count": 46,
     "metadata": {},
     "output_type": "execute_result"
    }
   ],
   "source": [
    "pd.DataFrame(result)"
   ]
  }
 ],
 "metadata": {
  "kernelspec": {
   "display_name": "Python 3.9.12 ('base')",
   "language": "python",
   "name": "python3"
  },
  "language_info": {
   "codemirror_mode": {
    "name": "ipython",
    "version": 3
   },
   "file_extension": ".py",
   "mimetype": "text/x-python",
   "name": "python",
   "nbconvert_exporter": "python",
   "pygments_lexer": "ipython3",
   "version": "3.9.12"
  },
  "orig_nbformat": 4,
  "vscode": {
   "interpreter": {
    "hash": "a077222d77dfe082b8f1dd562ad70e458ac2ab76993a0b248ab0476e32e9e8dd"
   }
  }
 },
 "nbformat": 4,
 "nbformat_minor": 2
}
