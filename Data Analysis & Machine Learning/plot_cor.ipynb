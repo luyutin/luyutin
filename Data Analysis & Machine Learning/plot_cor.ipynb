{
 "cells": [
  {
   "cell_type": "code",
   "execution_count": 185,
   "metadata": {},
   "outputs": [],
   "source": [
    "import pandas as pd\n",
    "from datetime import datetime, timedelta\n",
    "from dateutil.relativedelta import relativedelta\n",
    "from dateutil.rrule import rrule, DAILY\n",
    "import matplotlib.pyplot as plt\n",
    "from matplotlib.pyplot import figure"
   ]
  },
  {
   "cell_type": "markdown",
   "metadata": {},
   "source": [
    "### roll_data"
   ]
  },
  {
   "cell_type": "code",
   "execution_count": 186,
   "metadata": {},
   "outputs": [],
   "source": [
    "roll_data = pd.read_csv('期貨行情/roll_data2023 (6).csv', encoding='Big5', index_col=False)\n",
    "roll_data = roll_data[roll_data['交易時段'] == '一般']"
   ]
  },
  {
   "cell_type": "code",
   "execution_count": 187,
   "metadata": {},
   "outputs": [],
   "source": [
    "def choose(row):\n",
    "    return row['到期月份(週別)'][:13]\n",
    "roll_data['到期月份(週別)'] = roll_data.apply(choose, axis = 1)"
   ]
  },
  {
   "cell_type": "code",
   "execution_count": 188,
   "metadata": {},
   "outputs": [],
   "source": [
    "def length(row):\n",
    "    return len(row['到期月份(週別)'])\n",
    "roll_data['length'] = roll_data.apply(length, axis =1)"
   ]
  },
  {
   "cell_type": "code",
   "execution_count": 189,
   "metadata": {},
   "outputs": [],
   "source": [
    "def change_to_datetime(row):\n",
    "    return datetime.strptime(row['交易日期'], '%Y/%m/%d')\n",
    "roll_data['交易日期'] = roll_data.apply(change_to_datetime, axis = 1)"
   ]
  },
  {
   "cell_type": "code",
   "execution_count": 190,
   "metadata": {},
   "outputs": [],
   "source": [
    "def find_wed(start):\n",
    "    first_day = start.replace(day=1)\n",
    "    for i in range(7):\n",
    "        if (first_day + timedelta(days=i)).isoweekday() == 3:\n",
    "            x = first_day + timedelta(days=i)\n",
    "        else:\n",
    "            continue\n",
    "    for i in range(6):\n",
    "        if start <= x + timedelta(days=7)*i:\n",
    "            return i+1\n",
    "        else:\n",
    "            continue\n",
    "def third_wed(month:str):\n",
    "    for i in range(7,25):\n",
    "        date = month\n",
    "        date = date + str(i)\n",
    "        date2 = datetime.strptime(date, '%Y%m%d')\n",
    "        if find_wed(date2) == 3:\n",
    "            return date2\n",
    "def find_lastweek(month:str):\n",
    "    day1 = datetime.strptime(month, '%Y%m')\n",
    "    begin = third_wed(month)-timedelta(days=1)\n",
    "    end = third_wed(month)+timedelta(days=6)\n",
    "    return begin, end"
   ]
  },
  {
   "cell_type": "code",
   "execution_count": 191,
   "metadata": {},
   "outputs": [],
   "source": [
    "month = roll_data['交易日期'].iloc[0].strftime('%Y%m')\n",
    "begin, end = find_lastweek(month)\n",
    "date_range = pd.date_range(start = begin, end = end)\n",
    "roll_data = roll_data.loc[roll_data['交易日期'].isin(date_range)]"
   ]
  },
  {
   "cell_type": "code",
   "execution_count": 192,
   "metadata": {},
   "outputs": [],
   "source": [
    "tick_data = roll_data[roll_data['length']==8]\n",
    "roll_data = roll_data[roll_data['length']==13]"
   ]
  },
  {
   "cell_type": "markdown",
   "metadata": {},
   "source": [
    "#### roll data"
   ]
  },
  {
   "cell_type": "code",
   "execution_count": 193,
   "metadata": {},
   "outputs": [],
   "source": [
    "def pidtransformer(row):\n",
    "    date = row['交易日期']\n",
    "    if find_wed(date) <= 3:\n",
    "        a = str(date)[:7].replace('-', '')\n",
    "        date_after_month = date + relativedelta(months=1)\n",
    "        b = str(date_after_month)[:7].replace('-', '')\n",
    "        c = a + '/' + b\n",
    "        if c == row['到期月份(週別)']:\n",
    "            return 1\n",
    "        else:\n",
    "            return 0\n",
    "    else:\n",
    "        datadd1m = date + relativedelta(months=1)\n",
    "        a = str(datadd1m)[:7].replace('-', '')\n",
    "        datadd2m = datadd1m + relativedelta(months=1)\n",
    "        b = str(datadd2m)[:7].replace('-', '')\n",
    "        c = a + '/' + b\n",
    "        if c == row['到期月份(週別)']:\n",
    "            return 1\n",
    "        else:\n",
    "            return 0\n",
    "\n",
    "roll_data['pid_tran'] = roll_data.apply(pidtransformer, axis = 1)\n",
    "roll_data = roll_data[roll_data['pid_tran']==1]"
   ]
  },
  {
   "cell_type": "code",
   "execution_count": 194,
   "metadata": {},
   "outputs": [],
   "source": [
    "roll_data = roll_data.iloc[:, [0, 2, 4, 5, 6]].set_index('交易日期', drop = True)\n",
    "roll_data['最高價'] = roll_data['最高價'].astype(int)\n",
    "roll_data['最低價'] = roll_data['最低價'].astype(int)\n",
    "roll_data['收盤價'] = roll_data['收盤價'].astype(int)"
   ]
  },
  {
   "cell_type": "markdown",
   "metadata": {},
   "source": [
    "#### tick data"
   ]
  },
  {
   "cell_type": "code",
   "execution_count": 195,
   "metadata": {},
   "outputs": [],
   "source": [
    "def choose(row):\n",
    "    return row['到期月份(週別)'][:6]\n",
    "tick_data['到期月份(週別)'] = tick_data.apply(choose, axis = 1)"
   ]
  },
  {
   "cell_type": "code",
   "execution_count": 196,
   "metadata": {},
   "outputs": [],
   "source": [
    "def pidtransformer2(row):\n",
    "    date = row['交易日期']\n",
    "    if find_wed(date) <= 3:\n",
    "        a = date.strftime('%Y%m')\n",
    "        if a == row['到期月份(週別)']:\n",
    "            return 1\n",
    "        else:\n",
    "            return 0\n",
    "    else:\n",
    "        datadd1m = date + relativedelta(months=1)\n",
    "        a = date.strftime('%Y%m')\n",
    "        if a == row['到期月份(週別)']:\n",
    "            return 1\n",
    "        else:\n",
    "            return 0\n",
    "tick_data['pid_tran'] = tick_data.apply(pidtransformer2, axis = 1)\n",
    "tick_data = tick_data[tick_data['pid_tran']==1]\n",
    "tick_data = tick_data.set_index('交易日期')\n",
    "tick_data['收盤價'] = tick_data['收盤價'].astype(int)"
   ]
  },
  {
   "cell_type": "code",
   "execution_count": 197,
   "metadata": {},
   "outputs": [
    {
     "data": {
      "text/plain": [
       "[<matplotlib.lines.Line2D at 0x24ab6105bb0>]"
      ]
     },
     "execution_count": 197,
     "metadata": {},
     "output_type": "execute_result"
    },
    {
     "data": {
      "image/png": "[encoded data removed]",
      "text/plain": [
       "<Figure size 432x288 with 1 Axes>"
      ]
     },
     "metadata": {
      "needs_background": "light"
     },
     "output_type": "display_data"
    }
   ],
   "source": [
    "plt.plot(tick_data['收盤價'])"
   ]
  },
  {
   "cell_type": "markdown",
   "metadata": {},
   "source": [
    "### Tx data"
   ]
  },
  {
   "cell_type": "code",
   "execution_count": 198,
   "metadata": {},
   "outputs": [],
   "source": [
    "tx_data = pd.read_csv('TX_data.csv', encoding='Big5')"
   ]
  },
  {
   "cell_type": "code",
   "execution_count": 199,
   "metadata": {},
   "outputs": [],
   "source": [
    "def change_to_datetime(row):\n",
    "    return datetime.strptime(row['日期'], '%Y/%m/%d')\n",
    "tx_data['日期'] = tx_data.apply(change_to_datetime, axis = 1)"
   ]
  },
  {
   "cell_type": "code",
   "execution_count": 200,
   "metadata": {},
   "outputs": [],
   "source": [
    "tx_data = tx_data.loc[tx_data['身份別'] != '自營商']\n",
    "tx_data = tx_data.loc[tx_data['日期'].isin(date_range)]\n",
    "tx_data = tx_data.set_index('日期', drop=True)\n",
    "tx_data_trust = tx_data.loc[tx_data['身份別'] == '投信']\n",
    "tx_data_other = tx_data.loc[tx_data['身份別'] == '外資及陸資']"
   ]
  },
  {
   "cell_type": "markdown",
   "metadata": {},
   "source": [
    "## 畫圖!!"
   ]
  },
  {
   "cell_type": "code",
   "execution_count": 201,
   "metadata": {},
   "outputs": [],
   "source": [
    "roll_data.index = roll_data.index.strftime('%Y%m%d')"
   ]
  },
  {
   "cell_type": "code",
   "execution_count": 202,
   "metadata": {},
   "outputs": [
    {
     "data": {
      "image/png": "[encoded data removed]",
      "text/plain": [
       "<Figure size 720x720 with 3 Axes>"
      ]
     },
     "metadata": {
      "needs_background": "light"
     },
     "output_type": "display_data"
    }
   ],
   "source": [
    "y1 = roll_data['收盤價']\n",
    "y2 = roll_data['最低價']\n",
    "y3 = roll_data['最高價']\n",
    "y4 = tx_data_trust['多空未平倉口數淨額']\n",
    "y5 = tx_data_other['多空未平倉口數淨額']\n",
    "y6 = tick_data['收盤價']\n",
    "\n",
    "fig, ax = plt.subplots(2,1,figsize=(10,10), sharex=True)\n",
    "x = roll_data.index\n",
    "ax[0].plot(x, y1, label = 'roll close')\n",
    "ax[0].plot(x, y2, label = 'roll low')\n",
    "ax[0].plot(x, y3, label = 'roll high')\n",
    "ax[0].legend()\n",
    "color = 'tab:red'\n",
    "ax2 = ax[0].twinx()\n",
    "ax2.plot(x, y6, label = 'tick close', color=color)\n",
    "ax2.legend(loc='upper right')\n",
    "# ax[0].set_ylim([-100, 0])\n",
    "\n",
    "ax[1].bar(x, y4, width=0.4, label = 'trust')#, align='edge')\n",
    "ax[1].bar(x, y5, width=0.4, label = 'others', align='edge')\n",
    "ax[1].legend()\n",
    "plt.show()\n",
    "#plt.savefig(f\"./圖片/{x[0]} 多空未平倉口數淨額.jpg\")\n",
    "#plt.close()"
   ]
  },
  {
   "cell_type": "markdown",
   "metadata": {},
   "source": [
    "#### 爬蟲"
   ]
  },
  {
   "cell_type": "code",
   "execution_count": 203,
   "metadata": {},
   "outputs": [],
   "source": [
    "from selenium import webdriver\n",
    "from selenium.webdriver.support.ui import Select"
   ]
  },
  {
   "cell_type": "code",
   "execution_count": 204,
   "metadata": {},
   "outputs": [],
   "source": [
    "driver = webdriver.Chrome()"
   ]
  },
  {
   "cell_type": "code",
   "execution_count": 205,
   "metadata": {},
   "outputs": [],
   "source": [
    "driver.get('https://www.taifex.com.tw/cht/3/dlFutDailyMarketView')"
   ]
  },
  {
   "cell_type": "code",
   "execution_count": 206,
   "metadata": {},
   "outputs": [],
   "source": [
    "day1 = datetime.strptime('202308', '%Y%m')\n",
    "day28 = day1 + timedelta(days=30)\n",
    "day_1 = []\n",
    "day_28 = []\n",
    "for i in range(36):\n",
    "    day1 = day1 - relativedelta(months=1)\n",
    "    day_str1 = day1.strftime('%Y/%m/%d')\n",
    "    day_1.append(day_str1)\n",
    "    day28 = day28 - relativedelta(months=1)\n",
    "    day_str2 = day28.strftime('%Y/%m/%d')\n",
    "    day_28.append(day_str2)"
   ]
  },
  {
   "cell_type": "code",
   "execution_count": 207,
   "metadata": {},
   "outputs": [],
   "source": [
    "import time"
   ]
  },
  {
   "cell_type": "code",
   "execution_count": null,
   "metadata": {},
   "outputs": [],
   "source": [
    "for start_date, end_date in zip(day_1, day_28):\n",
    "    start = driver.find_element('id', 'queryStartDate')\n",
    "    start.clear()\n",
    "    start.send_keys(f'{start_date}')\n",
    "    time.sleep(1)\n",
    "    end = driver.find_element('id', 'queryEndDate')\n",
    "    end.clear()\n",
    "    end.send_keys(f'{end_date}')\n",
    "    time.sleep(1)\n",
    "    table = driver.find_element('id', 'commodity_idt')\n",
    "    table.click()\n",
    "    time.sleep(5)\n",
    "    select = Select(driver.find_element('name', 'commodity_idt'))\n",
    "    select.select_by_value('TX')\n",
    "    download = driver.find_element('id', 'button4')\n",
    "    download.click()"
   ]
  },
  {
   "cell_type": "code",
   "execution_count": null,
   "metadata": {},
   "outputs": [],
   "source": [
    "from selenium import webdriver\n",
    "from selenium.webdriver.support.ui import Select\n",
    "import time\n",
    "\n",
    "driver = webdriver.Chrome()\n",
    "\n",
    "driver.get('https://www.taifex.com.tw/cht/3/dlFutDailyMarketView')\n",
    "\n",
    "day1 = datetime.strptime('202308', '%Y%m')\n",
    "day28 = day1 + timedelta(days=30)\n",
    "day_1 = []\n",
    "day_28 = []\n",
    "for i in range(36):\n",
    "    day1 = day1 - relativedelta(months=1)\n",
    "    day_str1 = day1.strftime('%Y/%m/%d')\n",
    "    day_1.append(day_str1)\n",
    "    day28 = day28 - relativedelta(months=1)\n",
    "    day_str2 = day28.strftime('%Y/%m/%d')\n",
    "    day_28.append(day_str2)\n",
    "\n",
    "for start_date, end_date in zip(day_1, day_28):\n",
    "    start = driver.find_element('id', 'queryStartDate')\n",
    "    start.clear()\n",
    "    start.send_keys(f'{start_date}')\n",
    "    time.sleep(1)\n",
    "    end = driver.find_element('id', 'queryEndDate')\n",
    "    end.clear()\n",
    "    end.send_keys(f'{end_date}')\n",
    "    time.sleep(1)\n",
    "    table = driver.find_element('id', 'commodity_idt')\n",
    "    table.click()\n",
    "    time.sleep(5)\n",
    "    select = Select(driver.find_element('name', 'commodity_idt'))\n",
    "    select.select_by_value('TX')\n",
    "    download = driver.find_element('id', 'button4')\n",
    "    download.click()"
   ]
  }
 ],
 "metadata": {
  "kernelspec": {
   "display_name": "Python 3.9.12 ('base')",
   "language": "python",
   "name": "python3"
  },
  "language_info": {
   "codemirror_mode": {
    "name": "ipython",
    "version": 3
   },
   "file_extension": ".py",
   "mimetype": "text/x-python",
   "name": "python",
   "nbconvert_exporter": "python",
   "pygments_lexer": "ipython3",
   "version": "3.9.12"
  },
  "orig_nbformat": 4,
  "vscode": {
   "interpreter": {
    "hash": "a077222d77dfe082b8f1dd562ad70e458ac2ab76993a0b248ab0476e32e9e8dd"
   }
  }
 },
 "nbformat": 4,
 "nbformat_minor": 2
}
