{
 "cells": [
  {
   "cell_type": "code",
   "execution_count": 4,
   "metadata": {},
   "outputs": [
    {
     "name": "stdout",
     "output_type": "stream",
     "text": [
      "尚可預約遊戲：\n",
      "小瓦隆\n",
      "雨聲\n",
      "龍捲風\n",
      "\n",
      "------------------\n"
     ]
    }
   ],
   "source": [
    "# create games dictionary\n",
    "games = {'小瓦隆' : None, \n",
    "         '雨聲' : None,\n",
    "         '龍捲風' : None}\n",
    "\n",
    "# run for 100 times\n",
    "for i in range(1, 100):\n",
    "    \n",
    "    msg = input('輸入訊息：')\n",
    "    current_user_id = '123abc'\n",
    "    \n",
    "    # implement reservation\n",
    "    if msg == '想看遊戲種類':\n",
    "        game_list = []\n",
    "        for game, user_id in games.items():\n",
    "            if user_id is None:\n",
    "                \n",
    "                ##1.將遊戲加到game_list裡面\n",
    "                game_list.append(game)\n",
    "                \n",
    "        game_text = '尚可預約遊戲：\\n'\n",
    "        for game in game_list:\n",
    "            \n",
    "            ##2.將所有尚可預約的遊戲加到game_text裡面   \n",
    "            game_text = game_text + game + '\\n'\n",
    "        print(game_text)\n",
    "\n",
    "    elif msg[0:3] == '想預約':\n",
    "        game_name = msg[3:]\n",
    "        found = False\n",
    "        for game, user_id in games.items():\n",
    "            if game == game_name:\n",
    "                found = True\n",
    "                if user_id is None:\n",
    "                    \n",
    "                    ##3.將想要預約的遊戲在字典裡對應的value改成user_id\n",
    "                    games[game_name] = current_user_id\n",
    "\n",
    "                    ##  例如，想要預約小瓦隆，請將字典games改成如下\n",
    "                    '''\n",
    "                    games = {'小瓦隆' : 123abc, \n",
    "                             '雨聲' : None,\n",
    "                             '龍捲風' : None}\n",
    "                    '''\n",
    "                    print('已為您預約完成：', game)\n",
    "                else:\n",
    "                    print('此遊戲已被預約！抱歉')\n",
    "        if found == False:\n",
    "            print('並沒有此款遊戲')\n",
    "    elif msg == '想取消預約':\n",
    "        for game, user_id in games.items():\n",
    "            if user_id == current_user_id:\n",
    "             \n",
    "                #4.將遊戲對應的valule改回None表示遊戲取消預約\n",
    "                games[game] = None\n",
    "\n",
    "                #  例如將小瓦隆取消預約，它在字典對應的value應改為None\n",
    "                '''\n",
    "                games = {'小瓦隆' : None, \n",
    "                         '雨聲' : None,\n",
    "                         '龍捲風' : None}\n",
    "                '''\n",
    "                print('已為您取消預約')\n",
    "    elif msg == '結束':\n",
    "        break\n",
    "    else:\n",
    "        print('您好！請問需要什麼樣的服務？')\n",
    "    print('------------------')\n",
    "        "
   ]
  }
 ],
 "metadata": {
  "kernelspec": {
   "display_name": "Python 3",
   "language": "python",
   "name": "python3"
  },
  "language_info": {
   "codemirror_mode": {
    "name": "ipython",
    "version": 3
   },
   "file_extension": ".py",
   "mimetype": "text/x-python",
   "name": "python",
   "nbconvert_exporter": "python",
   "pygments_lexer": "ipython3",
   "version": "3.10.2"
  }
 },
 "nbformat": 4,
 "nbformat_minor": 5
}
