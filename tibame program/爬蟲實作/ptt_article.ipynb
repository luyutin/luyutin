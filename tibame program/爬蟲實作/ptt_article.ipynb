{
 "cells": [
  {
   "cell_type": "code",
   "execution_count": 1,
   "metadata": {},
   "outputs": [],
   "source": [
    "import requests\n",
    "from bs4 import BeautifulSoup"
   ]
  },
  {
   "cell_type": "code",
   "execution_count": null,
   "metadata": {},
   "outputs": [],
   "source": [
    "def ppt_title(url):\n",
    "    title_list = []\n",
    "    url_movie = url\n",
    "    user_agent = \"Mozilla/5.0 (Macintosh; Intel Mac OS X 10_15_7) AppleWebKit/537.36 (KHTML, like Gecko) Chrome/110.0.0.0 Safari/537.36\"\n",
    "    headers = {\"User-Agent\" : user_agent}\n",
    "    response_movie = requests.get(url=url_movie, headers=headers)\n",
    "    soup = BeautifulSoup(response_movie.text, 'html.parser')\n",
    "    article_title_html = soup.select('div[class=\"title\"]')\n",
    "    for each_article in article_title_html:\n",
    "        try:\n",
    "            title_list.append([each_article.a.text, each_article.a['href']])\n",
    "        except AttributeError as e:\n",
    "            title_list.append([each_article, e.args])\n",
    "    return title_list\n",
    "    "
   ]
  },
  {
   "cell_type": "markdown",
   "metadata": {},
   "source": [
    "## 方法1 看網址找規律"
   ]
  },
  {
   "cell_type": "code",
   "execution_count": null,
   "metadata": {},
   "outputs": [],
   "source": [
    "a = 9508\n",
    "while a > 9500:\n",
    "    url_movie = \"https://www.ptt.cc/bbs/movie/index\"+str(a)+\".html\"\n",
    "    print(ppt_title(url_movie))\n",
    "    a = a-1"
   ]
  },
  {
   "cell_type": "markdown",
   "metadata": {},
   "source": [
    "## 方法2 找到上一頁按鈕的網址"
   ]
  },
  {
   "cell_type": "code",
   "execution_count": null,
   "metadata": {},
   "outputs": [],
   "source": [
    "def ppt_last_page_url(url):   \n",
    "    url_movie = url\n",
    "    user_agent = \"Mozilla/5.0 (Macintosh; Intel Mac OS X 10_15_7) AppleWebKit/537.36 (KHTML, like Gecko) Chrome/110.0.0.0 Safari/537.36\"\n",
    "    headers = {\"User-Agent\" : user_agent}\n",
    "    response_movie = requests.get(url=url_movie, headers=headers)\n",
    "    soup = BeautifulSoup(response_movie.text, 'html.parser')\n",
    "    last_page_url = soup.select('a[class=\"btn wide\"]')[1]['href']\n",
    "    last_page_url = 'https://www.ptt.cc' + last_page_url\n",
    "    return last_page_url"
   ]
  },
  {
   "cell_type": "code",
   "execution_count": null,
   "metadata": {},
   "outputs": [],
   "source": [
    "url_movie = \"https://www.ptt.cc/bbs/movie/index.html\"\n",
    "for i in range(5):\n",
    "    print(ppt_title(url_movie))\n",
    "    url_movie = ppt_last_page_url(url_movie)"
   ]
  },
  {
   "cell_type": "markdown",
   "metadata": {},
   "source": [
    "## 存文章"
   ]
  },
  {
   "cell_type": "code",
   "execution_count": 12,
   "metadata": {},
   "outputs": [],
   "source": [
    "import os\n",
    "resource_path = \"./res\"\n",
    "if not os.path.exists(resource_path):\n",
    "    os.mkdir(resource_path)"
   ]
  },
  {
   "cell_type": "code",
   "execution_count": 6,
   "metadata": {},
   "outputs": [],
   "source": [
    "def save_article(url):\n",
    "    user_agent = \"Mozilla/5.0 (Macintosh; Intel Mac OS X 10_15_7) AppleWebKit/537.36 (KHTML, like Gecko) Chrome/110.0.0.0 Safari/537.36\"\n",
    "    headers = {\"User-Agent\" : user_agent}\n",
    "    article_url = url\n",
    "    response_article = requests.get(url=article_url, headers=headers)\n",
    "    article_soup = BeautifulSoup(response_article.text, 'html.parser')\n",
    "    # 雖然距離有點遠，但id是唯一的，所以必定只有一個物件\n",
    "    # .split要自己去尋找有沒有固定的格式！\n",
    "    article_content = article_soup.select('div[id=\"main-content\"]')[0].text.split('--')[0]\n",
    "    return article_content # type:str"
   ]
  },
  {
   "cell_type": "code",
   "execution_count": 16,
   "metadata": {},
   "outputs": [],
   "source": [
    "def ppt_title(url):\n",
    "    title_list = []\n",
    "    url_movie = url\n",
    "    user_agent = \"Mozilla/5.0 (Macintosh; Intel Mac OS X 10_15_7) AppleWebKit/537.36 (KHTML, like Gecko) Chrome/110.0.0.0 Safari/537.36\"\n",
    "    headers = {\"User-Agent\" : user_agent}\n",
    "    response_movie = requests.get(url=url_movie, headers=headers)\n",
    "    soup = BeautifulSoup(response_movie.text, 'html.parser')\n",
    "    article_title_html = soup.select('div[class=\"title\"]')\n",
    "    for each_article in article_title_html:\n",
    "        try:\n",
    "            article_title = each_article.a.text\n",
    "            article_url = 'https://www.ptt.cc' + each_article.a['href']\n",
    "            article_content = save_article(article_url)\n",
    "            title_list.append([article_url, article_title])\n",
    "            with open(r'%s/%s.txt' % (\"./res\", article_title), 'w', encoding='utf-8') as w:\n",
    "                w.write(article_content)\n",
    "\n",
    "        except AttributeError as e:\n",
    "            title_list.append([each_article, e.args])\n",
    "        except FileNotFoundError as e: # 檔案名稱出現斜線就可能發生\n",
    "            pass\n",
    "        except OSError as e: # 非法字元\n",
    "            pass\n",
    "    return title_list\n",
    "    "
   ]
  },
  {
   "cell_type": "code",
   "execution_count": 17,
   "metadata": {},
   "outputs": [
    {
     "name": "stdout",
     "output_type": "stream",
     "text": [
      "[['https://www.ptt.cc/bbs/movie/M.1675901699.A.DD4.html', '[新聞] 《灌籃高手》電影票房突破百億大關！吉卜'], ['https://www.ptt.cc/bbs/movie/M.1675902911.A.8DF.html', '[新聞] 2023年好萊塢必看5大電影！僅1部非英雄'], ['https://www.ptt.cc/bbs/movie/M.1675904871.A.830.html', '射雕英雄傳之東成西就'], ['https://www.ptt.cc/bbs/movie/M.1675907236.A.3BD.html', '[情報] 冰雪奇緣3 玩具總動員5 動物方城市2 確定'], ['https://www.ptt.cc/bbs/movie/M.1675908204.A.202.html', '[好雷] 緣來不用翻譯 Book of Love (2022 英國＆墨西哥)'], ['https://www.ptt.cc/bbs/movie/M.1675908800.A.835.html', '[新聞] 劉亞仁爆涉非法用藥遭逮！經紀公司證實'], ['https://www.ptt.cc/bbs/movie/M.1675910654.A.DB9.html', '[討論] “這個男人來自地球”的劇國內寫的出嗎？'], ['https://www.ptt.cc/bbs/movie/M.1675911496.A.DE6.html', 'Re: [好雷] 福音戰士新劇場版：終 4DX (及系列電影'], ['https://www.ptt.cc/bbs/movie/M.1675911632.A.D80.html', '[  普雷] 刺激'], ['https://www.ptt.cc/bbs/movie/M.1675913235.A.B32.html', '[新聞] 冰雪奇緣3 玩具總動員5 動物方城式2製作中'], ['https://www.ptt.cc/bbs/movie/M.1675917126.A.238.html', '[好雷]《瘋狂富作用》悲情三角'], ['https://www.ptt.cc/bbs/movie/M.1675920743.A.303.html', '[情報] 2023 第41屆香港電影金像獎 入圍名單&統計'], ['https://www.ptt.cc/bbs/movie/M.1675920991.A.6B0.html', '[請益] 漫威跟dc電影要從哪裡看起'], ['https://www.ptt.cc/bbs/movie/M.1675923065.A.FDE.html', '[普雷] 七情六慾, 2021法國電影'], ['https://www.ptt.cc/bbs/movie/M.1675929294.A.96D.html', '[好雷] 正發生，2021法國電影'], ['https://www.ptt.cc/bbs/movie/M.1675931075.A.F4C.html', '[討論] 有天才學生拍畢業作品變暢銷片或得大獎嗎'], ['https://www.ptt.cc/bbs/movie/M.1675932027.A.AB8.html', '[討論] 漫威電影打戲越來越爛是怎'], ['https://www.ptt.cc/bbs/movie/M.1675932952.A.073.html', '[新聞] 《驚奇4超人》導演：將於2024年初開鏡'], ['https://www.ptt.cc/bbs/movie/M.1675934688.A.B55.html', '[新聞] 《給十九歲的我》金像獎提名相關 (非原標'], ['https://www.ptt.cc/bbs/movie/M.1675940036.A.A64.html', '[新聞] 影后陸小芬休息24年等男神來敲門\\u3000演活胖']]\n",
      "[[<div class=\"title\">\n",
      "\t\t\t\n",
      "\t\t\t\t(本文已被刪除) [godgod777]\n",
      "\t\t\t\n",
      "\t\t\t</div>, (\"'NoneType' object has no attribute 'text'\",)], ['https://www.ptt.cc/bbs/movie/M.1675860959.A.451.html', '[請益] 猶豫 蟻人3 要不要去戲院看'], ['https://www.ptt.cc/bbs/movie/M.1675861635.A.138.html', '[情報] 《致蕾絲莉 To Leslie》將由光年代理發行'], ['https://www.ptt.cc/bbs/movie/M.1675863189.A.D9B.html', '[新聞] 《鐵達尼號》情人節返航 重現盛世美顏'], ['https://www.ptt.cc/bbs/movie/M.1675863871.A.FAE.html', '[新聞] 宮澤冰魚<僕愛君愛>情牽橋本愛、蒔田彩珠'], ['https://www.ptt.cc/bbs/movie/M.1675864553.A.25D.html', '[請益] 上帝的筆誤 台灣Netflix上映時間？'], ['https://www.ptt.cc/bbs/movie/M.1675864760.A.2DB.html', '[新聞] 《灌籃高手》在日67天狂掃百億票房 南韓'], ['https://www.ptt.cc/bbs/movie/M.1675865680.A.725.html', '[選片] 蟻人3 vs 鬼滅之刃:上弦集結+前進刀匠村'], ['https://www.ptt.cc/bbs/movie/M.1675866592.A.DB3.html', '[討論] 捍衛任務? 頂級殺手?'], ['https://www.ptt.cc/bbs/movie/M.1675870097.A.589.html', '[討論]  第一屆 金牛獎 入圍名單公布：'], ['https://www.ptt.cc/bbs/movie/M.1675871414.A.E4F.html', '[討論] 媽的多重宇宙是V級宇宙文明嗎？？'], ['https://www.ptt.cc/bbs/movie/M.1675871808.A.DB3.html', '[新聞] 小粉紅不挺漫威黑豹2首日票房成為歷來最差'], ['https://www.ptt.cc/bbs/movie/M.1675873574.A.62A.html', 'Re: [好雷] 霸王別姬裡的靈魂人物-關師傅'], ['https://www.ptt.cc/bbs/movie/M.1675874803.A.C75.html', '[新聞] 2023賀歲檔國片再度慘敗：連假還是票房靈'], ['https://www.ptt.cc/bbs/movie/M.1675876150.A.70B.html', '[討論] 海角七號現在才拍出來的話也是爛片嗎？？'], ['https://www.ptt.cc/bbs/movie/M.1675876586.A.799.html', '[新聞] 《最後生還者》主創談查導版《正義聯盟》'], ['https://www.ptt.cc/bbs/movie/M.1675878066.A.F94.html', '[新聞] 奧斯卡種族爭議再起 黑人女性僅1位入圍'], ['https://www.ptt.cc/bbs/movie/M.1675879843.A.E5F.html', '[問片] 找一部逃獄的驚悚片'], ['https://www.ptt.cc/bbs/movie/M.1675882311.A.DD2.html', '[討論] 《鬼滅之刃 上弦集結》評價'], ['https://www.ptt.cc/bbs/movie/M.1675898713.A.50C.html', '[大負雷] 螢火蟲之墓']]\n",
      "[['https://www.ptt.cc/bbs/movie/M.1675833466.A.231.html', '[新聞] 岡恩：DC已與華納一分為二'], ['https://www.ptt.cc/bbs/movie/M.1675835083.A.AF5.html', 'iTunes$70 不幹了!我開除了黑心公司'], ['https://www.ptt.cc/bbs/movie/M.1675835085.A.4F0.html', '[新聞] 主持人：和梁朝偉劉德華一起提名電影大獎'], ['https://www.ptt.cc/bbs/movie/M.1675836754.A.867.html', '[請益] 請問哪裡可以買到聽媽媽的話電影海報'], ['https://www.ptt.cc/bbs/movie/M.1675838114.A.442.html', '[普雷]看了火線交涉 真的挺失望的 '], ['https://www.ptt.cc/bbs/movie/M.1675838963.A.600.html', '[問題] 最喜歡灌籃高手裡面哪一個橋段？'], ['https://www.ptt.cc/bbs/movie/M.1675841536.A.638.html', '[新聞] 傳岡恩對舊DCEU的評論引發高層不滿'], ['https://www.ptt.cc/bbs/movie/M.1675843141.A.16E.html', 'Re: [情報] 灌籃高手日本票房突破100億'], ['https://www.ptt.cc/bbs/movie/M.1675845294.A.0CC.html', '[情報] 2023 鹿特丹影展 得獎名單'], ['https://www.ptt.cc/bbs/movie/M.1675846263.A.11E.html', '[新聞] 華納發言人確認康斯坦汀2仍在開發中'], ['https://www.ptt.cc/bbs/movie/M.1675847050.A.4DD.html', 'Re: [問題] 最喜歡灌籃高手裡面哪一個橋段？'], ['https://www.ptt.cc/bbs/movie/M.1675848083.A.CC0.html', '[好雷] 山中森林含意之深非主流的拍攝'], [<div class=\"title\">\n",
      "\t\t\t\n",
      "\t\t\t\t(本文已被刪除) [jenny416413]\n",
      "\t\t\t\n",
      "\t\t\t</div>, (\"'NoneType' object has no attribute 'text'\",)], ['https://www.ptt.cc/bbs/movie/M.1675849710.A.513.html', '[好雷] 幻影'], ['https://www.ptt.cc/bbs/movie/M.1675850012.A.0DF.html', '[情報] 2023 大阪電影節 得獎名單'], ['https://www.ptt.cc/bbs/movie/M.1675856292.A.053.html', '[討論] DCU蝙蝠俠和超人的一些設定'], ['https://www.ptt.cc/bbs/movie/M.1675857479.A.6D2.html', '[好雷] 灌籃高手 THE FIRST SLAM DUNK'], ['https://www.ptt.cc/bbs/movie/M.1675857561.A.5DB.html', '[負雷] 黑豹2 看不懂'], ['https://www.ptt.cc/bbs/movie/M.1675858344.A.E66.html', '[討論] 灌籃高手大電影為什麼不用卡通的歌曲?'], ['https://www.ptt.cc/bbs/movie/M.1675859682.A.C21.html', '[新聞] 李安不以高幀率拍《李小龍》首認新片用不到']]\n"
     ]
    }
   ],
   "source": [
    "a = 9508\n",
    "while a > 9505:\n",
    "    url_movie = \"https://www.ptt.cc/bbs/movie/index\"+str(a)+\".html\"\n",
    "    print(ppt_title(url_movie))\n",
    "    a = a-1"
   ]
  }
 ],
 "metadata": {
  "interpreter": {
   "hash": "aee8b7b246df8f9039afb4144a1f6fd8d2ca17a180786b69acc140d282b71a49"
  },
  "kernelspec": {
   "display_name": "Python 3.10.2 64-bit",
   "language": "python",
   "name": "python3"
  },
  "language_info": {
   "codemirror_mode": {
    "name": "ipython",
    "version": 3
   },
   "file_extension": ".py",
   "mimetype": "text/x-python",
   "name": "python",
   "nbconvert_exporter": "python",
   "pygments_lexer": "ipython3",
   "version": "3.10.2"
  },
  "orig_nbformat": 4
 },
 "nbformat": 4,
 "nbformat_minor": 2
}
