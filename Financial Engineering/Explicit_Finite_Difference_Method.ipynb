{
 "cells": [
  {
   "cell_type": "code",
   "execution_count": 3,
   "metadata": {},
   "outputs": [
    {
     "name": "stdout",
     "output_type": "stream",
     "text": [
      "Monte Carlo Method\n",
      "Option value :  1.601826513212786\n"
     ]
    }
   ],
   "source": [
    "import numpy as np\n",
    "# Monte Carlo Method\n",
    "\n",
    "# Define model parameters\n",
    "S0 = 20 # initial stock price\n",
    "K = 21 # strike price\n",
    "T = 4/12 # time to maturity (in years)\n",
    "r = 0.1 # risk-free interest rate\n",
    "sigma = 0.3 # volatility\n",
    "N = 10000\n",
    "\n",
    "z = np.random.normal(loc=0, scale=1, size=N)\n",
    "ST = S0*np.exp((0.5*sigma**2)*T + sigma*np.sqrt(T)*z)\n",
    "X = np.maximum(K-ST, 0)\n",
    "put_value = np.exp(-r*T)*np.mean(X)\n",
    "\n",
    "print(\"Monte Carlo Method\")\n",
    "print(\"Option value : \",put_value)"
   ]
  },
  {
   "cell_type": "code",
   "execution_count": 70,
   "metadata": {},
   "outputs": [
    {
     "name": "stdout",
     "output_type": "stream",
     "text": [
      "Binarytree Method\n",
      "Option value :  1.597215213840916\n"
     ]
    }
   ],
   "source": [
    "N = 4\n",
    "T = 4/12\n",
    "q = 0\n",
    "dt = T/N\n",
    "u = np.exp(sigma*np.sqrt(dt))\n",
    "d = 1/u\n",
    "a = np.exp((r-q)*dt)\n",
    "p = (a-d)/(u-d)\n",
    "\n",
    "\n",
    "ST = np.zeros(N+1)\n",
    "put = np.zeros((N+1, N+1))\n",
    "\n",
    "# t=T股價共有N+1個葉子，並且算出各自的選擇權價值\n",
    "for i in range(0,N):\n",
    "    ST[i] = S0 * (u**i) * (d**(N-i))\n",
    "    put[N][i] = np.maximum(K-ST[i], 0)\n",
    "# euro_p(i+1, j+1) = exp(-r*dt)*(p*euro_p(i+2, j+2)+(1-p)*euro_p(i+2, j+1))\n",
    "\n",
    "for i in range(N-1,-1,-1): # N-1, N-2,..., 0\n",
    "    for j in range(0,i+1):\n",
    "        put[i][j] = np.exp((-r)*dt)*(p*put[i+1][j+1]+(1-p)*put[i+1][j])\n",
    "        # print(i, j)\n",
    "    # print(put)\n",
    "\n",
    "print(\"Binarytree Method\")\n",
    "print(\"Option value : \",put[0][0])"
   ]
  },
  {
   "cell_type": "code",
   "execution_count": 98,
   "metadata": {},
   "outputs": [
    {
     "name": "stdout",
     "output_type": "stream",
     "text": [
      "Explicit Finite Difference Method\n",
      "Option value :  2.0458324582849956\n"
     ]
    }
   ],
   "source": [
    "#Explicit Finite Difference Method\n",
    "S0 = 20\n",
    "K = 21\n",
    "T = 1/3\n",
    "r = 0.1\n",
    "q = 0\n",
    "sigma = 0.3\n",
    "dt = 1/12\n",
    "N = 5\n",
    "M = 10\n",
    "f = np.zeros((M,N))\n",
    "f[M-1] = 21\n",
    "\n",
    "S = np.arange(36,-1,-4) # 36, 32, 28, 24, 20, 16, 12,  8,  4,  0\n",
    "dz = np.sqrt(3*dt)*sigma\n",
    "\n",
    "for i in range(M):\n",
    "    f[i][N-1] = max(0,K-S[i])\n",
    "\n",
    "# Page 506\n",
    "a = (1/(1+r*dt))*(-dt*(r-q-0.5*sigma**2)/(2*dz)+dt*sigma**2/(2*dz**2))\n",
    "b = (1/(1+r*dt))*(1-dt*sigma**2/dz**2)\n",
    "c = (1/(1+r*dt))*(dt*(r-q-0.5*sigma**2)/(2*dz)+dt*sigma**2/(2*dz**2))\n",
    "\n",
    "for i in range(N-2,-1,-1): # 3, 2, 1, 0\n",
    "    for j in range(1, M-1): # 1, 2, ...8\n",
    "        f[j][i] = a*f[j+1][i+1] + b*f[j][i+1] + c*f[j-1][i+1]\n",
    "        # print(i, j, end=\", \")\n",
    "# print(\"\\n\")\n",
    "# print(f)\n",
    "print(\"Explicit Finite Difference Method\")\n",
    "print(\"Option value : \",f[4][0])"
   ]
  }
 ],
 "metadata": {
  "interpreter": {
   "hash": "aee8b7b246df8f9039afb4144a1f6fd8d2ca17a180786b69acc140d282b71a49"
  },
  "kernelspec": {
   "display_name": "Python 3.10.2 64-bit",
   "language": "python",
   "name": "python3"
  },
  "language_info": {
   "codemirror_mode": {
    "name": "ipython",
    "version": 3
   },
   "file_extension": ".py",
   "mimetype": "text/x-python",
   "name": "python",
   "nbconvert_exporter": "python",
   "pygments_lexer": "ipython3",
   "version": "3.10.2"
  },
  "orig_nbformat": 4
 },
 "nbformat": 4,
 "nbformat_minor": 2
}
