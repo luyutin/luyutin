{
 "cells": [
  {
   "cell_type": "code",
   "execution_count": 2,
   "metadata": {},
   "outputs": [
    {
     "name": "stdout",
     "output_type": "stream",
     "text": [
      "Black-Scholes Call Price: 1.7779239451401487\n",
      "Monte Carlo Call Price: 1.780580050347759\n",
      "Binomial Tree Call Price: 1.7830110680950624\n"
     ]
    }
   ],
   "source": [
    "import numpy as np\n",
    "import scipy.stats as si\n",
    "import math\n",
    "\n",
    "# Parameters\n",
    "T = 0.25\n",
    "N = 52\n",
    "dt = T / N\n",
    "mu = 0.13\n",
    "sigma = 0.2\n",
    "S0 = 49\n",
    "K = 50\n",
    "r = 0.05\n",
    "\n",
    "# Black-Scholes Model\n",
    "def black_scholes(S, K, T, r, sigma):\n",
    "    d1 = (np.log(S / K) + (r + 0.5 * sigma ** 2) * T) / (sigma * np.sqrt(T))\n",
    "    d2 = d1 - sigma * np.sqrt(T)\n",
    "    call_price = (S * si.norm.cdf(d1, 0.0, 1.0) - K * np.exp(-r * T) * si.norm.cdf(d2, 0.0, 1.0))\n",
    "    return call_price\n",
    "\n",
    "bs_call_price = black_scholes(S0, K, T, r, sigma)\n",
    "print(f\"Black-Scholes Call Price: {bs_call_price}\")\n",
    "\n",
    "# Monte Carlo Method\n",
    "def monte_carlo(S, K, T, r, sigma, N_simulations=10000):\n",
    "    random_returns = np.random.normal((r - 0.5 * sigma ** 2) * T, sigma * np.sqrt(T), N_simulations)\n",
    "    stock_prices = S * np.exp(random_returns)\n",
    "    call_payoffs = np.maximum(stock_prices - K, 0)\n",
    "    call_price = np.exp(-r * T) * np.mean(call_payoffs)\n",
    "    return call_price\n",
    "\n",
    "mc_call_price = monte_carlo(S0, K, T, r, sigma)\n",
    "print(f\"Monte Carlo Call Price: {mc_call_price}\")\n",
    "\n",
    "# Binomial Tree Method\n",
    "def binomial_tree(S, K, T, r, sigma, N):\n",
    "    dt = T / N\n",
    "    u = np.exp(sigma * np.sqrt(dt))\n",
    "    d = 1 / u\n",
    "    p = (np.exp(r * dt) - d) / (u - d)\n",
    "    price_tree = np.zeros((N+1, N+1))\n",
    "    \n",
    "    for i in range(N + 1):\n",
    "        for j in range(i + 1):\n",
    "            price_tree[j, i] = S * (u ** (i - j)) * (d ** j)\n",
    "    \n",
    "    option_tree = np.zeros_like(price_tree)\n",
    "    option_tree[:, -1] = np.maximum(0, price_tree[:, -1] - K)\n",
    "    \n",
    "    for i in range(N - 1, -1, -1):\n",
    "        for j in range(0, i + 1):\n",
    "            option_tree[j, i] = np.exp(-r * dt) * (p * option_tree[j, i + 1] + (1 - p) * option_tree[j + 1, i + 1])\n",
    "    \n",
    "    return option_tree[0, 0]\n",
    "\n",
    "bt_call_price = binomial_tree(S0, K, T, r, sigma, N)\n",
    "print(f\"Binomial Tree Call Price: {bt_call_price}\")\n"
   ]
  }
 ],
 "metadata": {
  "interpreter": {
   "hash": "aee8b7b246df8f9039afb4144a1f6fd8d2ca17a180786b69acc140d282b71a49"
  },
  "kernelspec": {
   "display_name": "Python 3.10.2 64-bit",
   "language": "python",
   "name": "python3"
  },
  "language_info": {
   "codemirror_mode": {
    "name": "ipython",
    "version": 3
   },
   "file_extension": ".py",
   "mimetype": "text/x-python",
   "name": "python",
   "nbconvert_exporter": "python",
   "pygments_lexer": "ipython3",
   "version": "3.10.2"
  },
  "orig_nbformat": 4
 },
 "nbformat": 4,
 "nbformat_minor": 2
}
